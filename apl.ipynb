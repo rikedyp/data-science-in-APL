{
 "cells": [
  {
   "cell_type": "code",
   "execution_count": 1,
   "id": "b7a77bf7",
   "metadata": {},
   "outputs": [
    {
     "data": {
      "text/html": [
       "<pre class=\"language-APL\">clear ws\n",
       "</pre>"
      ]
     },
     "execution_count": 1,
     "metadata": {},
     "output_type": "execute_result"
    }
   ],
   "source": [
    ")clear"
   ]
  },
  {
   "cell_type": "code",
   "execution_count": 2,
   "id": "c7912dba",
   "metadata": {},
   "outputs": [],
   "source": [
    "T←{⎕PP←3 ⋄ ⍕⍺⍪⍵}  ⍝ print header and data as table"
   ]
  },
  {
   "cell_type": "markdown",
   "id": "0ab29849",
   "metadata": {},
   "source": [
    "# Berkeley\n",
    "\n",
    "In 1973, the admission data in UC Berkeley graduate schools showed a clear gender bias: a larger percentage of male applicants was being admitted. However, when the admission rates in each major are analysed, this gender bias is not observed. This is a typical example of [Simpson's paradox](https://en.wikipedia.org/wiki/Simpson%27s_paradox). To understand it, we must calculate the admission rates in total and by gender for each major and in total, as well as the percentage in which the students of each gender apply to the different majors."
   ]
  },
  {
   "cell_type": "code",
   "execution_count": 3,
   "id": "9a19299c",
   "metadata": {},
   "outputs": [],
   "source": [
    "d h←⎕CSV'berkeley.csv' ''1 1                      ⍝ read data\n",
    "a←{⍵[⍋⍵;]}d[;2 3]{⍺,(+/('A'=⊃)¨⍵),≢⍵}⌸d[;4]       ⍝ group admitted and applicants\n",
    "g←a⍪(⊂'Total'),a[;2]{⍺,+⌿⍵}⌸a[;3 4]               ⍝ totals by gender\n",
    "m←{⍵[⍋⍵;]}g⍪g[;1]{⍺,'T',+⌿⍵}⌸g[;3 4]              ⍝ totals by major\n",
    "ar←m,100×m[;3]÷m[;4]                              ⍝ admission ratios\n",
    "mr←ar,100×ar[;4]÷(≢ar)⍴¯3↑ar[;4]                  ⍝ applicants ratios"
   ]
  },
  {
   "cell_type": "code",
   "execution_count": 4,
   "id": "6baae53d",
   "metadata": {},
   "outputs": [
    {
     "data": {
      "text/html": [
       "<pre class=\"language-APL\">┌────┬─────┬──────┬─────────┐\n",
       "│Year│Major│Gender│Admission│\n",
       "├────┼─────┼──────┼─────────┤\n",
       "│1973│C    │F     │Rejected │\n",
       "├────┼─────┼──────┼─────────┤\n",
       "│1973│B    │M     │Accepted │\n",
       "├────┼─────┼──────┼─────────┤\n",
       "│1973│Other│F     │Accepted │\n",
       "├────┼─────┼──────┼─────────┤\n",
       "│1973│Other│M     │Accepted │\n",
       "├────┼─────┼──────┼─────────┤\n",
       "│1973│Other│M     │Rejected │\n",
       "├────┼─────┼──────┼─────────┤\n",
       "│1973│Other│M     │Rejected │\n",
       "├────┼─────┼──────┼─────────┤\n",
       "│1973│F    │F     │Accepted │\n",
       "├────┼─────┼──────┼─────────┤\n",
       "│1973│Other│M     │Accepted │\n",
       "├────┼─────┼──────┼─────────┤\n",
       "│1973│Other│M     │Rejected │\n",
       "├────┼─────┼──────┼─────────┤\n",
       "│1973│A    │M     │Accepted │\n",
       "├────┼─────┼──────┼─────────┤\n",
       "│1973│Other│F     │Rejected │\n",
       "├────┼─────┼──────┼─────────┤\n",
       "│1973│B    │M     │Accepted │\n",
       "├────┼─────┼──────┼─────────┤\n",
       "│1973│C    │M     │Rejected │\n",
       "├────┼─────┼──────┼─────────┤\n",
       "│1973│A    │M     │Rejected │\n",
       "├────┼─────┼──────┼─────────┤\n",
       "│1973│Other│M     │Rejected │\n",
       "├────┼─────┼──────┼─────────┤\n",
       "│1973│Other│F     │Rejected │\n",
       "├────┼─────┼──────┼─────────┤\n",
       "│1973│A    │M     │Accepted │\n",
       "├────┼─────┼──────┼─────────┤\n",
       "│1973│Other│F     │Accepted │\n",
       "├────┼─────┼──────┼─────────┤\n",
       "│1973│Other│M     │Rejected │\n",
       "├────┼─────┼──────┼─────────┤\n",
       "│1973│F    │M     │Rejected │\n",
       "├────┼─────┼──────┼─────────┤\n",
       "│1973│Other│M     │Rejected │\n",
       "├────┼─────┼──────┼─────────┤\n",
       "│1973│C    │M     │Accepted │\n",
       "├────┼─────┼──────┼─────────┤\n",
       "│1973│C    │F     │Rejected │\n",
       "├────┼─────┼──────┼─────────┤\n",
       "│1973│Other│M     │Rejected │\n",
       "├────┼─────┼──────┼─────────┤\n",
       "│1973│Other│F     │Rejected │\n",
       "├────┼─────┼──────┼─────────┤\n",
       "│... │...  │...   │...      │\n",
       "└────┴─────┴──────┴─────────┘\n",
       "</pre>"
      ]
     },
     "execution_count": 4,
     "metadata": {},
     "output_type": "execute_result"
    }
   ],
   "source": [
    "h⍪(⊂'...')⍪⍨25↑d"
   ]
  },
  {
   "cell_type": "code",
   "execution_count": 5,
   "id": "92308566",
   "metadata": {},
   "outputs": [
    {
     "data": {
      "text/html": [
       "<pre class=\"language-APL\"> Major  Gender  Admitted  Applicants \n",
       " A      F             89         108 \n",
       " A      M            825        1138 \n",
       " B      F             17          25 \n",
       " B      M            353         560 \n",
       " C      F            201         593 \n",
       " C      M            120         325 \n",
       " D      F            131         375 \n",
       " D      M            138         417 \n",
       " E      F             94         393 \n",
       " E      M             53         191 \n",
       " F      F             25         341 \n",
       " F      M             22         373 \n",
       " Other  F            937        2486 \n",
       " Other  M           2227        5438 \n",
       "</pre>"
      ]
     },
     "execution_count": 5,
     "metadata": {},
     "output_type": "execute_result"
    }
   ],
   "source": [
    "(ha←h[2 3],'Admitted' 'Applicants')T a"
   ]
  },
  {
   "cell_type": "code",
   "execution_count": 6,
   "id": "b0d4fc8b",
   "metadata": {},
   "outputs": [
    {
     "data": {
      "text/html": [
       "<pre class=\"language-APL\"> Major  Gender  Admitted  Applicants \n",
       " A      F             89         108 \n",
       " A      M            825        1138 \n",
       " B      F             17          25 \n",
       " B      M            353         560 \n",
       " C      F            201         593 \n",
       " C      M            120         325 \n",
       " D      F            131         375 \n",
       " D      M            138         417 \n",
       " E      F             94         393 \n",
       " E      M             53         191 \n",
       " F      F             25         341 \n",
       " F      M             22         373 \n",
       " Other  F            937        2486 \n",
       " Other  M           2227        5438 \n",
       " Total  F           1494        4321 \n",
       " Total  M           3738        8442 \n",
       "</pre>"
      ]
     },
     "execution_count": 6,
     "metadata": {},
     "output_type": "execute_result"
    }
   ],
   "source": [
    "ha T g"
   ]
  },
  {
   "cell_type": "code",
   "execution_count": 7,
   "id": "30edc458",
   "metadata": {},
   "outputs": [
    {
     "data": {
      "text/html": [
       "<pre class=\"language-APL\"> Major  Gender  Admitted  Applicants \n",
       " A      F             89         108 \n",
       " A      M            825        1138 \n",
       " A      T            914        1246 \n",
       " B      F             17          25 \n",
       " B      M            353         560 \n",
       " B      T            370         585 \n",
       " C      F            201         593 \n",
       " C      M            120         325 \n",
       " C      T            321         918 \n",
       " D      F            131         375 \n",
       " D      M            138         417 \n",
       " D      T            269         792 \n",
       " E      F             94         393 \n",
       " E      M             53         191 \n",
       " E      T            147         584 \n",
       " F      F             25         341 \n",
       " F      M             22         373 \n",
       " F      T             47         714 \n",
       " Other  F            937        2486 \n",
       " Other  M           2227        5438 \n",
       " Other  T           3164        7924 \n",
       " Total  F           1494        4321 \n",
       " Total  M           3738        8442 \n",
       " Total  T           5232       12763 \n",
       "</pre>"
      ]
     },
     "execution_count": 7,
     "metadata": {},
     "output_type": "execute_result"
    }
   ],
   "source": [
    "ha T m"
   ]
  },
  {
   "cell_type": "code",
   "execution_count": 8,
   "id": "882e8e7d",
   "metadata": {},
   "outputs": [
    {
     "data": {
      "text/html": [
       "<pre class=\"language-APL\"> Major  Gender  Admitted  Applicants  %Admitted \n",
       " A      F             89         108      82.4  \n",
       " A      M            825        1138      72.5  \n",
       " A      T            914        1246      73.4  \n",
       " B      F             17          25      68    \n",
       " B      M            353         560      63    \n",
       " B      T            370         585      63.2  \n",
       " C      F            201         593      33.9  \n",
       " C      M            120         325      36.9  \n",
       " C      T            321         918      35    \n",
       " D      F            131         375      34.9  \n",
       " D      M            138         417      33.1  \n",
       " D      T            269         792      34    \n",
       " E      F             94         393      23.9  \n",
       " E      M             53         191      27.7  \n",
       " E      T            147         584      25.2  \n",
       " F      F             25         341       7.33 \n",
       " F      M             22         373       5.9  \n",
       " F      T             47         714       6.58 \n",
       " Other  F            937        2486      37.7  \n",
       " Other  M           2227        5438      41    \n",
       " Other  T           3164        7924      39.9  \n",
       " Total  F           1494        4321      34.6  \n",
       " Total  M           3738        8442      44.3  \n",
       " Total  T           5232       12763      41    \n",
       "</pre>"
      ]
     },
     "execution_count": 8,
     "metadata": {},
     "output_type": "execute_result"
    }
   ],
   "source": [
    "(har←ha,⊂'%Admitted')T ar"
   ]
  },
  {
   "cell_type": "code",
   "execution_count": 9,
   "id": "86f190e4",
   "metadata": {},
   "outputs": [
    {
     "data": {
      "text/html": [
       "<pre class=\"language-APL\"> Major  Gender  Admitted  Applicants  %Admitted  %Applicants \n",
       " A      F             89         108      82.4         2.5   \n",
       " A      M            825        1138      72.5        13.5   \n",
       " A      T            914        1246      73.4         9.76  \n",
       " B      F             17          25      68           0.579 \n",
       " B      M            353         560      63           6.63  \n",
       " B      T            370         585      63.2         4.58  \n",
       " C      F            201         593      33.9        13.7   \n",
       " C      M            120         325      36.9         3.85  \n",
       " C      T            321         918      35           7.19  \n",
       " D      F            131         375      34.9         8.68  \n",
       " D      M            138         417      33.1         4.94  \n",
       " D      T            269         792      34           6.21  \n",
       " E      F             94         393      23.9         9.1   \n",
       " E      M             53         191      27.7         2.26  \n",
       " E      T            147         584      25.2         4.58  \n",
       " F      F             25         341       7.33        7.89  \n",
       " F      M             22         373       5.9         4.42  \n",
       " F      T             47         714       6.58        5.59  \n",
       " Other  F            937        2486      37.7        57.5   \n",
       " Other  M           2227        5438      41          64.4   \n",
       " Other  T           3164        7924      39.9        62.1   \n",
       " Total  F           1494        4321      34.6       100     \n",
       " Total  M           3738        8442      44.3       100     \n",
       " Total  T           5232       12763      41         100     \n",
       "</pre>"
      ]
     },
     "execution_count": 9,
     "metadata": {},
     "output_type": "execute_result"
    }
   ],
   "source": [
    "(hmr←har,⊂'%Applicants')T mr"
   ]
  },
  {
   "cell_type": "markdown",
   "id": "7a3b23be",
   "metadata": {},
   "source": [
    "**TODO** bar charts. eg https://rpubs.com/dawnwp/1081716"
   ]
  },
  {
   "cell_type": "markdown",
   "id": "248cd125",
   "metadata": {},
   "source": [
    "# Iris\n",
    "\n",
    "The [Iris dataset](https://en.wikipedia.org/wiki/Iris_flower_data_set) contains measures of different features for three different classes of Iris flowers. This dataset is frequently used as an example for different data classification techniques."
   ]
  },
  {
   "cell_type": "code",
   "execution_count": 10,
   "id": "a889dc8b",
   "metadata": {},
   "outputs": [],
   "source": [
    "⍝ statistical functions (from aplcart)\n",
    "AVG←+⌿÷≢ ⋄ STD←(2*∘÷⍨+⌿÷¯1+≢)2*⍨⊢-⍤1+⌿÷≢     ⍝ average and standard deviation\n",
    "PCT←{((2÷⍨+/)⊢⌷⍨∘⊂⍋⌷⍨∘⊂∘⌈100÷⍨⍺×0 1+≢)⍵}     ⍝ percentile-⍺\n",
    "PCC←+.×⍥((⊢÷2*∘÷⍨+.×⍨)⊢-+⌿÷≢)                ⍝ Pearson correlation coefficient"
   ]
  },
  {
   "cell_type": "code",
   "execution_count": 11,
   "id": "cb0cd362",
   "metadata": {},
   "outputs": [],
   "source": [
    "_A←{(⍵[;1],∘⍺⍺⌸1↓[2]⍵)⍪(⊂'Total'),⍺⍺1↓[2]⍵}  ⍝ aggregate with total"
   ]
  },
  {
   "cell_type": "code",
   "execution_count": 12,
   "id": "3c7dbffc",
   "metadata": {},
   "outputs": [],
   "source": [
    "d←¯1⌽⎕CSV'iris.csv' ''4                      ⍝ read data\n",
    "s←(⌊⌿,AVG,STD,⌈⌿)_A d                        ⍝ statistical summary\n",
    "p←{,25 50 75∘.PCT↓⍉⍵}_A d                    ⍝ percentiles\n",
    "c←⊂⍤2{∘.PCC⍨↓⍉⍵}_A d                         ⍝ correlation matrices\n",
    "c,←⊂(⊂'Class'),(⊂⍳⍨d[;1])PCC¨↓⍉1↓[2]d        ⍝ class correlation"
   ]
  },
  {
   "cell_type": "code",
   "execution_count": 13,
   "id": "ec988afc",
   "metadata": {},
   "outputs": [
    {
     "data": {
      "text/html": [
       "<pre class=\"language-APL\">┌───────────┬───┬───┬───┬───┐\n",
       "│Iris-setosa│5.1│3.5│1.4│0.2│\n",
       "├───────────┼───┼───┼───┼───┤\n",
       "│Iris-setosa│4.9│3  │1.4│0.2│\n",
       "├───────────┼───┼───┼───┼───┤\n",
       "│Iris-setosa│4.7│3.2│1.3│0.2│\n",
       "├───────────┼───┼───┼───┼───┤\n",
       "│Iris-setosa│4.6│3.1│1.5│0.2│\n",
       "├───────────┼───┼───┼───┼───┤\n",
       "│Iris-setosa│5  │3.6│1.4│0.2│\n",
       "├───────────┼───┼───┼───┼───┤\n",
       "│Iris-setosa│5.4│3.9│1.7│0.4│\n",
       "├───────────┼───┼───┼───┼───┤\n",
       "│Iris-setosa│4.6│3.4│1.4│0.3│\n",
       "├───────────┼───┼───┼───┼───┤\n",
       "│Iris-setosa│5  │3.4│1.5│0.2│\n",
       "├───────────┼───┼───┼───┼───┤\n",
       "│Iris-setosa│4.4│2.9│1.4│0.2│\n",
       "├───────────┼───┼───┼───┼───┤\n",
       "│Iris-setosa│4.9│3.1│1.5│0.1│\n",
       "├───────────┼───┼───┼───┼───┤\n",
       "│Iris-setosa│5.4│3.7│1.5│0.2│\n",
       "├───────────┼───┼───┼───┼───┤\n",
       "│Iris-setosa│4.8│3.4│1.6│0.2│\n",
       "├───────────┼───┼───┼───┼───┤\n",
       "│Iris-setosa│4.8│3  │1.4│0.1│\n",
       "├───────────┼───┼───┼───┼───┤\n",
       "│Iris-setosa│4.3│3  │1.1│0.1│\n",
       "├───────────┼───┼───┼───┼───┤\n",
       "│Iris-setosa│5.8│4  │1.2│0.2│\n",
       "├───────────┼───┼───┼───┼───┤\n",
       "│Iris-setosa│5.7│4.4│1.5│0.4│\n",
       "├───────────┼───┼───┼───┼───┤\n",
       "│Iris-setosa│5.4│3.9│1.3│0.4│\n",
       "├───────────┼───┼───┼───┼───┤\n",
       "│Iris-setosa│5.1│3.5│1.4│0.3│\n",
       "├───────────┼───┼───┼───┼───┤\n",
       "│Iris-setosa│5.7│3.8│1.7│0.3│\n",
       "├───────────┼───┼───┼───┼───┤\n",
       "│Iris-setosa│5.1│3.8│1.5│0.3│\n",
       "├───────────┼───┼───┼───┼───┤\n",
       "│Iris-setosa│5.4│3.4│1.7│0.2│\n",
       "├───────────┼───┼───┼───┼───┤\n",
       "│Iris-setosa│5.1│3.7│1.5│0.4│\n",
       "├───────────┼───┼───┼───┼───┤\n",
       "│Iris-setosa│4.6│3.6│1  │0.2│\n",
       "├───────────┼───┼───┼───┼───┤\n",
       "│Iris-setosa│5.1│3.3│1.7│0.5│\n",
       "├───────────┼───┼───┼───┼───┤\n",
       "│Iris-setosa│4.8│3.4│1.9│0.2│\n",
       "└───────────┴───┴───┴───┴───┘\n",
       "</pre>"
      ]
     },
     "execution_count": 13,
     "metadata": {},
     "output_type": "execute_result"
    }
   ],
   "source": [
    "25↑d"
   ]
  },
  {
   "cell_type": "code",
   "execution_count": 14,
   "id": "cce867bd",
   "metadata": {},
   "outputs": [
    {
     "data": {
      "text/html": [
       "<pre class=\"language-APL\"> class            ⌊sl  ⌊sw  ⌊pl  ⌊pw   Asl   Asw   Apl    Apw    Ssl    Ssw    Spl    Spw  ⌈sl  ⌈sw  ⌈pl  ⌈pw \n",
       " Iris-setosa      4.3  2.3  1    0.1  5.01  3.42  1.46  0.244  0.352  0.381  0.174  0.107  5.8  4.4  1.9  0.6 \n",
       " Iris-versicolor  4.9  2    3    1    5.94  2.77  4.26  1.33   0.516  0.314  0.47   0.198  7    3.4  5.1  1.8 \n",
       " Iris-virginica   4.9  2.2  4.5  1.4  6.59  2.97  5.55  2.03   0.636  0.322  0.552  0.275  7.9  3.8  6.9  2.5 \n",
       " Total            4.3  2    1    0.1  5.84  3.05  3.76  1.2    0.828  0.434  1.76   0.763  7.9  4.4  6.9  2.5 \n",
       "</pre>"
      ]
     },
     "execution_count": 14,
     "metadata": {},
     "output_type": "execute_result"
    },
    {
     "data": {
      "text/html": [
       "<pre class=\"language-APL\"> class            sl25  sl50  sl75  sw25  sw50  sw75  pl25  pl50  pl75  pw25  pw50  pw75 \n",
       " Iris-setosa       4.8   3.1   1.4   0.2   5     3.4  1.5    0.2   5.2   3.7   1.6   0.3 \n",
       " Iris-versicolor   5.6   2.5   4     1.2   5.9   2.8  4.35   1.3   6.3   3     4.6   1.5 \n",
       " Iris-virginica    6.2   2.8   5.1   1.8   6.5   3    5.55   2     7     3.2   5.9   2.3 \n",
       " Total             5.1   2.8   1.6   0.3   5.8   3    4.35   1.3   6.4   3.3   5.1   1.8 \n",
       "</pre>"
      ]
     },
     "execution_count": 14,
     "metadata": {},
     "output_type": "execute_result"
    },
    {
     "data": {
      "text/html": [
       "<pre class=\"language-APL\"> class                sl      sw      pl      pw \n",
       " Iris-setosa       1       0.747   0.264   0.279 \n",
       " Iris-setosa       0.747   1       0.177   0.28  \n",
       " Iris-setosa       0.264   0.177   1       0.306 \n",
       " Iris-setosa       0.279   0.28    0.306   1     \n",
       " Iris-versicolor   1       0.526   0.754   0.546 \n",
       " Iris-versicolor   0.526   1       0.561   0.664 \n",
       " Iris-versicolor   0.754   0.561   1       0.787 \n",
       " Iris-versicolor   0.546   0.664   0.787   1     \n",
       " Iris-virginica    1       0.457   0.864   0.281 \n",
       " Iris-virginica    0.457   1       0.401   0.538 \n",
       " Iris-virginica    0.864   0.401   1       0.322 \n",
       " Iris-virginica    0.281   0.538   0.322   1     \n",
       " Total             1      ¯0.109   0.872   0.818 \n",
       " Total            ¯0.109   1      ¯0.421  ¯0.357 \n",
       " Total             0.872  ¯0.421   1       0.963 \n",
       " Total             0.818  ¯0.357   0.963   1     \n",
       " Class             0.783  ¯0.419   0.949   0.956 \n",
       "</pre>"
      ]
     },
     "execution_count": 14,
     "metadata": {},
     "output_type": "execute_result"
    }
   ],
   "source": [
    "((⊂'class'),,'⌊AS⌈'∘.,'sl' 'sw' 'pl' 'pw')T s\n",
    "((⊂'class'),,'25' '50' '75'∘.,⍨'sl' 'sw' 'pl' 'pw')T p\n",
    "('class' 'sl' 'sw' 'pl' 'pw')T⊃⍪/c"
   ]
  },
  {
   "cell_type": "markdown",
   "id": "4ca7f093",
   "metadata": {},
   "source": [
    "**TODO** box plots, bar charts, scatter-plot. eg http://www.lac.inpe.br/~rafael.santos/Docs/CAP394/WholeStory-Iris.html"
   ]
  },
  {
   "cell_type": "markdown",
   "id": "e6361451",
   "metadata": {},
   "source": [
    "### Alternative to tacit statistical functions"
   ]
  },
  {
   "cell_type": "code",
   "execution_count": 15,
   "id": "ed159035",
   "metadata": {},
   "outputs": [],
   "source": [
    ":Namespace stats                      ⍝ statistical functions namespace\n",
    "    AVG←{(+⌿⍵)÷≢⍵}                    ⍝   average\n",
    "    STD←{(÷2)*⍨(+.×⍨⍵-AVG⍵)÷(≢⍵)-1}   ⍝   standard deviation (of the sample)\n",
    "     SS←{⍵÷(÷2)*⍨(+.×⍨⍵-AVG⍵)}        ⍝   standard score\n",
    "    PCC←{+.×⍥SS⍵}                     ⍝   Pearson's correlation coefficient\n",
    "    PCT←{                             ⍝   percentile\n",
    "        i←⌈(⍺÷100)×0 1+≢⍵             ⍝     indices of two nearest values\n",
    "        v←(⊂(⊂i)⌷⍋⍵)⌷⍵                ⍝     two nearest values\n",
    "        (+/v)÷2                       ⍝     return average\n",
    "    }\n",
    ":EndNamespace"
   ]
  },
  {
   "cell_type": "markdown",
   "id": "3dcb35ab",
   "metadata": {},
   "source": [
    "# Google\n",
    "\n",
    "A [time series](https://en.wikipedia.org/wiki/Time_series) is a series of data points indexed by time. As an example, we can analyse the number of searches for \"scotch\" in the last 5 years taken from google trends: https://trends.google.com/trends/explore?date=today%205-y&q=scotch"
   ]
  },
  {
   "cell_type": "code",
   "execution_count": 16,
   "id": "739d8bf1",
   "metadata": {},
   "outputs": [],
   "source": [
    "(ds n)←⎕CSV⍠'Invert'2⊢(3↓⊃⎕NGET'google-scotch.csv'1)'N'4   ⍝ read data\n",
    "d←{⍲/(∧/∊∘(⎕D,'-'))¨⍵:⎕SIGNAL 11 ⋄ ↑'-'(⍎¨≠⊆⊢)¨⍵}ds        ⍝ dates\n",
    "t←d[;1 2],∘(+/)⌸n                                          ⍝ group\n",
    "s←{⍵[⍋⍵;]}¨{t[;⍵],∘(⌊⌿,(+⌿÷≢),⌈⌿,+⌿)⌸t[;3]}¨⍳2             ⍝ summary\n",
    "c←{¯2-/t[;⍵]+/⍤⊢⌸t[;3]}¨⍳¨⍳2                               ⍝ change"
   ]
  },
  {
   "cell_type": "code",
   "execution_count": 17,
   "id": "37762a55",
   "metadata": {},
   "outputs": [
    {
     "data": {
      "text/html": [
       "<pre class=\"language-APL\">┌────────────┬───┐\n",
       "│ 2019-08-11 │ 67│\n",
       "│ 2019-08-18 │ 65│\n",
       "│ 2019-08-25 │ 66│\n",
       "│ 2019-09-01 │ 70│\n",
       "│ 2019-09-08 │ 68│\n",
       "│ 2019-09-15 │ 66│\n",
       "│ 2019-09-22 │ 64│\n",
       "│ 2019-09-29 │ 66│\n",
       "│ 2019-10-06 │ 70│\n",
       "│ 2019-10-13 │ 66│\n",
       "│ 2019-10-20 │ 71│\n",
       "│ 2019-10-27 │ 68│\n",
       "│ 2019-11-03 │ 72│\n",
       "│ 2019-11-10 │ 71│\n",
       "│ 2019-11-17 │ 74│\n",
       "│ 2019-11-24 │ 79│\n",
       "│ 2019-12-01 │ 77│\n",
       "│ 2019-12-08 │ 82│\n",
       "│ 2019-12-15 │ 95│\n",
       "│ 2019-12-22 │100│\n",
       "│ 2019-12-29 │ 85│\n",
       "│ 2020-01-05 │ 74│\n",
       "│ 2020-01-12 │ 72│\n",
       "│ 2020-01-19 │ 73│\n",
       "│ 2020-01-26 │ 69│\n",
       "│ 2020-02-02 │ 67│\n",
       "│ 2020-02-09 │ 69│\n",
       "│ 2020-02-16 │ 68│\n",
       "│ 2020-02-23 │ 68│\n",
       "│ 2020-03-01 │ 65│\n",
       "└────────────┴───┘\n",
       "</pre>"
      ]
     },
     "execution_count": 17,
     "metadata": {},
     "output_type": "execute_result"
    }
   ],
   "source": [
    "(⍕∘⍪30∘↑)¨ds n"
   ]
  },
  {
   "cell_type": "code",
   "execution_count": 18,
   "id": "2d592729",
   "metadata": {},
   "outputs": [
    {
     "data": {
      "text/html": [
       "<pre class=\"language-APL\">2019  8 11\n",
       "2019  8 18\n",
       "2019  8 25\n",
       "2019  9  1\n",
       "2019  9  8\n",
       "2019  9 15\n",
       "2019  9 22\n",
       "2019  9 29\n",
       "2019 10  6\n",
       "2019 10 13\n",
       "2019 10 20\n",
       "2019 10 27\n",
       "2019 11  3\n",
       "2019 11 10\n",
       "2019 11 17\n",
       "2019 11 24\n",
       "2019 12  1\n",
       "2019 12  8\n",
       "2019 12 15\n",
       "2019 12 22\n",
       "2019 12 29\n",
       "2020  1  5\n",
       "2020  1 12\n",
       "2020  1 19\n",
       "2020  1 26\n",
       "2020  2  2\n",
       "2020  2  9\n",
       "2020  2 16\n",
       "2020  2 23\n",
       "2020  3  1\n",
       "</pre>"
      ]
     },
     "execution_count": 18,
     "metadata": {},
     "output_type": "execute_result"
    }
   ],
   "source": [
    "30↑d"
   ]
  },
  {
   "cell_type": "code",
   "execution_count": 19,
   "id": "cf5c4b51",
   "metadata": {},
   "outputs": [
    {
     "data": {
      "text/html": [
       "<pre class=\"language-APL\"> year  month    n\n",
       "2019       8  198\n",
       "2019       9  334\n",
       "2019      10  275\n",
       "2019      11  296\n",
       "2019      12  439\n",
       "2020       1  288\n",
       "2020       2  272\n",
       "2020       3  301\n",
       "2020       4  291\n",
       "2020       5  361\n",
       "2020       6  279\n",
       "2020       7  275\n",
       "2020       8  336\n",
       "2020       9  264\n",
       "2020      10  253\n",
       "2020      11  366\n",
       "2020      12  350\n",
       "2021       1  332\n",
       "2021       2  264\n",
       "2021       3  250\n",
       "2021       4  245\n",
       "2021       5  317\n",
       "2021       6  247\n",
       "2021       7  249\n",
       "2021       8  306\n",
       "2021       9  242\n",
       "2021      10  315\n",
       "2021      11  271\n",
       "2021      12  320\n",
       "2022       1  331\n",
       "2022       2  252\n",
       "2022       3  249\n",
       "2022       4  256\n",
       "2022       5  314\n",
       "2022       6  250\n",
       "2022       7  315\n",
       "2022       8  253\n",
       "2022       9  237\n",
       "2022      10  303\n",
       "2022      11  256\n",
       "2022      12  303\n",
       "2023       1  321\n",
       "2023       2  234\n",
       "2023       3  247\n",
       "2023       4  301\n",
       "2023       5  235\n",
       "2023       6  238\n",
       "2023       7  306\n",
       "2023       8  240\n",
       "2023       9  230\n",
       "2023      10  289\n",
       "2023      11  250\n",
       "2023      12  352\n",
       "2024       1  238\n",
       "2024       2  227\n",
       "2024       3  293\n",
       "2024       4  239\n",
       "2024       5  231\n",
       "2024       6  286\n",
       "2024       7  229\n",
       "2024       8  111\n",
       "</pre>"
      ]
     },
     "execution_count": 19,
     "metadata": {},
     "output_type": "execute_result"
    }
   ],
   "source": [
    "'year' 'month' 'n'T t"
   ]
  },
  {
   "cell_type": "code",
   "execution_count": 20,
   "id": "27959517",
   "metadata": {},
   "outputs": [
    {
     "data": {
      "text/html": [
       "<pre class=\"language-APL\">  Total  2019 2020 2021 2022 2023 2024   Change  2019 2020 2021 2022 2023 2024 \n",
       "      1     ·  288  332  331  321  238        1     · ¯151  ¯18   11   18 ¯114 \n",
       "      2     ·  272  264  252  234  227        2     ·  ¯16  ¯68  ¯79  ¯87  ¯11 \n",
       "      3     ·  301  250  249  247  293        3     ·   29  ¯14   ¯3   13   66 \n",
       "      4     ·  291  245  256  301  239        4     ·  ¯10   ¯5    7   54  ¯54 \n",
       "      5     ·  361  317  314  235  231        5     ·   70   72   58  ¯66   ¯8 \n",
       "      6     ·  279  247  250  238  286        6     ·  ¯82  ¯70  ¯64    3   55 \n",
       "      7     ·  275  249  315  306  229        7     ·   ¯4    2   65   68  ¯57 \n",
       "      8   198  336  306  253  240  111        8     ·   61   57  ¯62  ¯66 ¯118 \n",
       "      9   334  264  242  237  230    ·        9   136  ¯72  ¯64  ¯16  ¯10    · \n",
       "     10   275  253  315  303  289    ·       10   ¯59  ¯11   73   66   59    · \n",
       "     11   296  366  271  256  250    ·       11    21  113  ¯44  ¯47  ¯39    · \n",
       "     12   439  350  320  303  352    ·       12   143  ¯16   49   47  102    · \n",
       "</pre>"
      ]
     },
     "execution_count": 20,
     "metadata": {},
     "output_type": "execute_result"
    },
    {
     "data": {
      "text/html": [
       "<pre class=\"language-APL\">  month  min  avg  max  total    year  min  avg  max  total  change  \n",
       "      1  238  302  332  1510    2019   198  308  439  1542        ·  \n",
       "      2  227  250  272  1249    2020   253  303  366  3636     2094  \n",
       "      3  247  268  301  1340    2021   242  280  332  3358     ¯278  \n",
       "      4  239  266  301  1332    2022   237  277  331  3319      ¯39  \n",
       "      5  231  292  361  1458    2023   230  270  352  3243      ¯76  \n",
       "      6  238  260  286  1300    2024   111  232  293  1854    ¯1389  \n",
       "      7  229  275  315  1374                                         \n",
       "      8  111  241  336  1444                                         \n",
       "      9  230  261  334  1307                                         \n",
       "     10  253  287  315  1435                                         \n",
       "     11  250  288  366  1439                                         \n",
       "     12  303  353  439  1764                                         \n",
       "</pre>"
      ]
     },
     "execution_count": 20,
     "metadata": {},
     "output_type": "execute_result"
    }
   ],
   "source": [
    "F←{(⍳12),⍉6 12⍴(⍺⍴'·'),⍵,(12-⍺)⍴'·'} ⋄ ⍕(((⊂'Total'),2018+⍳6)T 7 F t[;3])(((⊂'Change'),2018+⍳6)T 8 F⊃⌽c)\n",
    "l←'min' 'avg' 'max' 'total' ⋄ ⍕(((⊂'month'),l)T⊃⌽s)(((⊂'year'),l,⊂'change')T(⊃s),'·',⊃c)"
   ]
  },
  {
   "cell_type": "markdown",
   "id": "8aae2482",
   "metadata": {},
   "source": [
    "**TODO** run chart with moving average. eg https://www.geeksforgeeks.org/how-to-make-a-time-series-plot-with-rolling-average-in-python/"
   ]
  }
 ],
 "metadata": {
  "kernelspec": {
   "display_name": "Dyalog APL",
   "language": "apl",
   "name": "dyalog-kernel"
  },
  "language_info": {
   "file_extension": ".apl",
   "mimetype": "text/apl",
   "name": "APL"
  }
 },
 "nbformat": 4,
 "nbformat_minor": 5
}
