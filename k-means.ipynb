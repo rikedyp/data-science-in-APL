{
 "cells": [
  {
   "cell_type": "markdown",
   "id": "265ad842-8c98-4335-b4fe-21dfd74bdd44",
   "metadata": {},
   "source": [
    "Clustering *lot area* and *sale prize* in the [ames](https://www.kaggle.com/c/house-prices-advanced-regression-techniques/data) dataset "
   ]
  },
  {
   "cell_type": "code",
   "execution_count": 1,
   "id": "fda648ac-10cb-46d5-b255-f2bda7550106",
   "metadata": {},
   "outputs": [
    {
     "data": {
      "text/html": [
       "<pre class=\"language-APL\">#.ames\n",
       "</pre>"
      ]
     },
     "execution_count": 1,
     "metadata": {},
     "output_type": "execute_result"
    }
   ],
   "source": [
    "]get ../ames.csv"
   ]
  },
  {
   "cell_type": "code",
   "execution_count": 2,
   "id": "b5351053-1cad-4388-9e5b-d80ce92f5e13",
   "metadata": {},
   "outputs": [],
   "source": [
    "I ← {(⊂⍺)⌷⍵}\n",
    "∆ ← {(⊂⍋⍵)⌷⍵}"
   ]
  },
  {
   "cell_type": "code",
   "execution_count": 3,
   "id": "c3537aaf-4342-405d-9f5c-599202ba856e",
   "metadata": {},
   "outputs": [
    {
     "data": {
      "text/html": [
       "<pre class=\"language-APL\">Was OFF\n",
       "</pre>"
      ]
     },
     "execution_count": 3,
     "metadata": {},
     "output_type": "execute_result"
    },
    {
     "data": {
      "text/html": [
       "<pre class=\"language-APL\">79\n",
       "</pre>"
      ]
     },
     "execution_count": 3,
     "metadata": {},
     "output_type": "execute_result"
    },
    {
     "data": {
      "text/html": [
       "<pre class=\"language-APL\">4 79\n",
       "</pre>"
      ]
     },
     "execution_count": 3,
     "metadata": {},
     "output_type": "execute_result"
    }
   ],
   "source": [
    "]box on\n",
    "⊢/⍴ames\n",
    "(1⌷ames)⍳⊆'LotArea' 'SalePrice'"
   ]
  },
  {
   "cell_type": "code",
   "execution_count": 4,
   "id": "c3f5d7bd-4d2b-48a0-aedb-f5f05f37ca56",
   "metadata": {},
   "outputs": [
    {
     "data": {
      "text/html": [
       "<pre class=\"language-APL\">2931 2\n",
       "</pre>"
      ]
     },
     "execution_count": 4,
     "metadata": {},
     "output_type": "execute_result"
    },
    {
     "data": {
      "text/html": [
       "<pre class=\"language-APL\">┌───────┬─────────┐\n",
       "│LotArea│SalePrice│\n",
       "├───────┼─────────┤\n",
       "│31770  │215000   │\n",
       "├───────┼─────────┤\n",
       "│11622  │105000   │\n",
       "└───────┴─────────┘\n",
       "</pre>"
      ]
     },
     "execution_count": 4,
     "metadata": {},
     "output_type": "execute_result"
    }
   ],
   "source": [
    "⍴feat←ames[;(1⌷ames)⍳⊆'LotArea' 'SalePrice']\n",
    "3↑feat"
   ]
  },
  {
   "cell_type": "code",
   "execution_count": 5,
   "id": "547dd239-00e1-4505-bbb1-4bf48cdbadc5",
   "metadata": {},
   "outputs": [
    {
     "data": {
      "text/html": [
       "<pre class=\"language-APL\">215245 755000\n",
       "  1300  12789\n",
       "</pre>"
      ]
     },
     "execution_count": 5,
     "metadata": {},
     "output_type": "execute_result"
    }
   ],
   "source": [
    "(⌈⌿,[0.5]⌊⌿)1↓feat"
   ]
  },
  {
   "cell_type": "code",
   "execution_count": 6,
   "id": "0b79ff46-3fc0-4f31-91e9-9bebd7b249f7",
   "metadata": {},
   "outputs": [
    {
     "data": {
      "text/html": [
       "<pre class=\"language-APL\"> 9548 237000\n",
       "11096 249700\n",
       " 8172 135000\n",
       " 2544 149500\n",
       " 4084 241500\n",
       "45600 240000\n",
       "</pre>"
      ]
     },
     "execution_count": 6,
     "metadata": {},
     "output_type": "execute_result"
    }
   ],
   "source": [
    "c←6(?∘≢I⊢)1↓feat\n",
    "c"
   ]
  },
  {
   "cell_type": "code",
   "execution_count": 7,
   "id": "43fb4632-dc3e-424d-9560-1afb61783ffe",
   "metadata": {},
   "outputs": [
    {
     "data": {
      "text/html": [
       "<pre class=\"language-APL\">2930 6\n",
       "</pre>"
      ]
     },
     "execution_count": 7,
     "metadata": {},
     "output_type": "execute_result"
    },
    {
     "data": {
      "text/html": [
       "<pre class=\"language-APL\"> 31270.0701    40391.88379   83407.82699 71724.53608  38324.46472   28570.42002\n",
       "132016.2925   144700.956     30197.72342 45416.51774 136707.9787   139210.2887\n",
       " 65171.07457   77764.67862   37498.65364 25370.82437  70242.03506   74871.60269\n",
       "  7183.212652   5700.359287 109040.9471  94891.96729   7504.650292  34671.50992\n",
       " 47294.24409   59862.46534   55190.78695 41946.79721  52512.32728   59324.04993\n",
       "</pre>"
      ]
     },
     "execution_count": 7,
     "metadata": {},
     "output_type": "execute_result"
    }
   ],
   "source": [
    "⍴d←0.5*⍨+/2*⍨(1↓feat)(-⍤1⍤1 2)c\n",
    "5↑d"
   ]
  },
  {
   "cell_type": "code",
   "execution_count": 8,
   "id": "dbf3c19a-a51e-4182-ba1a-3cba17a51dd0",
   "metadata": {},
   "outputs": [
    {
     "data": {
      "text/html": [
       "<pre class=\"language-APL\">2930\n",
       "</pre>"
      ]
     },
     "execution_count": 8,
     "metadata": {},
     "output_type": "execute_result"
    },
    {
     "data": {
      "text/html": [
       "<pre class=\"language-APL\">6 3 4 2 4 1 1 4 1 4\n",
       "</pre>"
      ]
     },
     "execution_count": 8,
     "metadata": {},
     "output_type": "execute_result"
    }
   ],
   "source": [
    "⍴g←d⍳⍤1 0⌊/d\n",
    "10↑g"
   ]
  },
  {
   "cell_type": "code",
   "execution_count": 9,
   "id": "752bcf42-153f-4647-8edb-73da5703cf6a",
   "metadata": {},
   "outputs": [
    {
     "name": "stderr",
     "output_type": "stream",
     "text": [
      "SYNTAX ERROR\n",
      "      {(+⌿⍵×[1]⍺=k)÷+/⍺=k}¨⍳⍺\n",
      "                            ∧\n"
     ]
    }
   ],
   "source": [
    "k←⌊/d\n",
    "{(+⌿⍵×[1]⍺=k)÷+/⍺=k}¨⍳⍺ "
   ]
  },
  {
   "cell_type": "code",
   "execution_count": 16,
   "id": "ed9e9f4b-c746-424b-a924-e5a6197dafdf",
   "metadata": {},
   "outputs": [],
   "source": [
    "∇ KMeans←{\n",
    "⍝ ⍺: (n max)←number of clusters, maximum iterations :: scalar integer\n",
    "⍝ ⍵: data set          :: numeric matrix 1 column per field\n",
    "  (n max)←⍺\n",
    "  End←{\n",
    "    ⍺≡⍵:1  ⍝ converged\n",
    "    i=max⊣i+←1   ⍝ maximum iterations reached\n",
    "  }\n",
    "  ComputeCentroids←{\n",
    "    ⍝c←n(?∘≢I⊢)⍺               ⍝ choose random centroids    \n",
    "    d←0.5*⍨+/2*⍨⍺(-⍤1⍤1 2)⍵   ⍝ distance from points to centroid\n",
    "    g←d⍳⍤1 0⌊/d                 ⍝ cluster (group) for each data point\n",
    "    g{(+⌿÷1⌈≢)⍵}⌸⍺           ⍝ new clusters are means of points in each group\n",
    "  }\n",
    "  i←0\n",
    "  c←n(?∘≢I⊢)⍵\n",
    "  ⍵ ComputeCentroids⍣End⊢c\n",
    "}\n",
    "∇"
   ]
  },
  {
   "cell_type": "code",
   "execution_count": 17,
   "id": "341f6d5f-1f15-4d39-9373-ba5373c20a2b",
   "metadata": {},
   "outputs": [
    {
     "data": {
      "text/html": [
       "<pre class=\"language-APL\">6 2\n",
       "</pre>"
      ]
     },
     "execution_count": 17,
     "metadata": {},
     "output_type": "execute_result"
    }
   ],
   "source": [
    "⍴r←(6 100) KMeans 1↓feat"
   ]
  },
  {
   "cell_type": "code",
   "execution_count": 18,
   "id": "bec06891-59ba-4303-ac2b-7d313733ce8b",
   "metadata": {
    "scrolled": true
   },
   "outputs": [
    {
     "data": {
      "text/html": [
       "<pre class=\"language-APL\">10199.75491  189525.5858\n",
       " 7662.867965  94523.78788\n",
       "13126.13208  255802.4929\n",
       "17631.79487  517060.9231\n",
       " 9083.224008 139893.4584\n",
       "13845.55435  352290.9348\n",
       "</pre>"
      ]
     },
     "execution_count": 18,
     "metadata": {},
     "output_type": "execute_result"
    }
   ],
   "source": [
    "r"
   ]
  },
  {
   "cell_type": "code",
   "execution_count": 22,
   "id": "225d46bd-9965-439b-9fe3-32efa1658f1e",
   "metadata": {},
   "outputs": [],
   "source": [
    "d←1↓feat\n",
    "d←0.5*⍨+/2*⍨d(-⍤1⍤1 2)r\n",
    "g←d⍳⍤1 0⌊/d"
   ]
  },
  {
   "cell_type": "code",
   "execution_count": 30,
   "id": "a4334540-6b99-484c-84c8-13a4ab12c85f",
   "metadata": {},
   "outputs": [
    {
     "data": {
      "text/html": [
       "<pre class=\"language-APL\">716881.2884 998444.608 725579.1586 1619055.419 812995.864 929321.2606\n",
       "</pre>"
      ]
     },
     "execution_count": 30,
     "metadata": {},
     "output_type": "execute_result"
    }
   ],
   "source": [
    "(g{+⌿,⍵}⌸d)÷(g{≢⍵}⌸d)"
   ]
  },
  {
   "cell_type": "code",
   "execution_count": 31,
   "id": "3ddc5360-f5b2-4e2b-8ed2-ba42178a2978",
   "metadata": {},
   "outputs": [
    {
     "data": {
      "text/html": [
       "<pre class=\"language-APL\">                                                                                 \n",
       "  g{(+⌿÷1⌈≢)⍵}⌸d        → 1.2E¯4 |   0% ⎕⎕⎕⎕⎕⎕⎕⎕⎕⎕⎕⎕⎕⎕⎕⎕⎕⎕⎕⎕⎕⎕⎕⎕⎕⎕⎕⎕⎕⎕⎕          \n",
       "  g{(+⌿⍵)÷1⌈≢⍵}⌸d       → 1.2E¯4 |  -3% ⎕⎕⎕⎕⎕⎕⎕⎕⎕⎕⎕⎕⎕⎕⎕⎕⎕⎕⎕⎕⎕⎕⎕⎕⎕⎕⎕⎕⎕⎕           \n",
       "* (g{+⌿,⍵}⌸d)÷(g{≢⍵}⌸d) → 1.6E¯4 | +30% ⎕⎕⎕⎕⎕⎕⎕⎕⎕⎕⎕⎕⎕⎕⎕⎕⎕⎕⎕⎕⎕⎕⎕⎕⎕⎕⎕⎕⎕⎕⎕⎕⎕⎕⎕⎕⎕⎕⎕⎕ \n",
       "</pre>"
      ]
     },
     "execution_count": 31,
     "metadata": {},
     "output_type": "execute_result"
    }
   ],
   "source": [
    "]runtime -c \"g{(+⌿÷1⌈≢)⍵}⌸d\" \"g{(+⌿⍵)÷1⌈≢⍵}⌸d\" \"(g{+⌿,⍵}⌸d)÷(g{≢⍵}⌸d)\""
   ]
  },
  {
   "cell_type": "markdown",
   "id": "05bd1d09-e940-4cfb-95b3-724291badeaa",
   "metadata": {},
   "source": [
    "Yes! There are several additional parameters users often want to control in k-means clustering:\n",
    "\n",
    "1. Convergence Threshold (ε):\n",
    "   - Instead of checking for exact equality of centroids (`⍺≡⍵`), users often want to specify a small threshold\n",
    "   - Centroids would be considered converged if their movement is less than this threshold\n",
    "   - e.g., if `∥new_centroids - old_centroids∥ < ε`\n",
    "\n",
    "2. Distance Metric:\n",
    "   - Currently we're using Euclidean distance\n",
    "   - Users might want Manhattan distance (L1 norm)\n",
    "   - Or other metrics like Cosine similarity\n",
    "   - This could be passed as a function operand\n",
    "\n",
    "3. Initialization Method:\n",
    "   - Currently using random selection from data points\n",
    "   - Users might want k-means++ initialization \n",
    "   - Or their own specific starting centroids\n",
    "\n",
    "4. Data Scaling/Normalization Method:\n",
    "   - Since we're dealing with different scales (Lot Area vs Price)\n",
    "   - Options like:\n",
    "     - Min-max scaling\n",
    "     - Z-score standardization\n",
    "     - No scaling\n",
    "\n",
    "Would you like me to elaborate on how any of these might be incorporated into the APL function's interface?"
   ]
  },
  {
   "cell_type": "code",
   "execution_count": null,
   "id": "d6f406f8-9563-4087-9541-97d41bd654a9",
   "metadata": {},
   "outputs": [],
   "source": [
    "∇ KMeans←{\n",
    "⍝ ⍺: (n max)←number of clusters, maximum iterations :: scalar integer\n",
    "⍝ ⍵: data set          :: numeric matrix 1 column per field\n",
    "  (n max)←⍺\n",
    "  \n",
    "  End←{\n",
    "    ⍺≡⍵:1  ⍝ converged\n",
    "    i=max⊣i+←1   ⍝ maximum iterations reached\n",
    "  }\n",
    "  ComputeCentroids←{\n",
    "    ⍝c←n(?∘≢I⊢)⍺               ⍝ choose random centroids    \n",
    "    d←0.5*⍨+/2*⍨⍺(-⍤1⍤1 2)⍵   ⍝ distance from points to centroid\n",
    "    g←d⍳⍤1 0⌊/d                 ⍝ cluster (group) for each data point\n",
    "    g{(+⌿÷1⌈≢)⍵}⌸⍺           ⍝ new clusters are means of points in each group\n",
    "    ⍝ faster to (+⌿÷1⌈≢)¨g{⊂⍵}⌸⍺\n",
    "    ⍝           (g{+⌿⍵}⌸⍺)÷(g{≢⍵}⌸⍺)\n",
    "  }\n",
    "  i←0\n",
    "  c←n(?∘≢I⊢)⍵\n",
    "  ⍵ ComputeCentroids⍣End⊢c\n",
    "}\n",
    "∇"
   ]
  },
  {
   "cell_type": "markdown",
   "id": "f017a056-351f-4e98-836f-4cd6e9ccffb7",
   "metadata": {},
   "source": [
    "The Big Questions are:\n",
    "- what is \"the APL way\" of doing these things?\n",
    "- can users take guides or existing code and boil down the necessary pieces for their use case, rather than relying on abstraction?\n",
    "- are there guidelines for creating TamStat-like APIs that feel nice to use and mesh well together for data science?\n",
    "- if we are providing Scikit/SciPy/Pandas-like abstractions, is there a benefit to doing so in APL?\n",
    "- In known data analysis and scientific domains, can we discover and demonstrate value in the APL way?\n"
   ]
  },
  {
   "cell_type": "markdown",
   "id": "f4e52db4-7be9-465b-8873-44b367c23f60",
   "metadata": {},
   "source": [
    "I think users should do normalisation themselves - or they could be provided as helper functions. \n",
    "\n",
    "```apl\n",
    "(n max) KMeans data   ⍝ default\n",
    "(n max) (KMeans Init) data ⍝ custom initialisation\n",
    "(n max) (Metric KMeans Init) data\n",
    "(n max) (KMeans WithDistance 'manhattan') 'zscore' Scale data\n",
    "(n max)(KMeans _WithMetric_ Metric _WithEndCondition_ End _Init_ Init) ScaleByZScore data\n",
    "```"
   ]
  },
  {
   "cell_type": "markdown",
   "id": "e9b52fa9-6e95-4f46-bf98-f33ec2951a5f",
   "metadata": {},
   "source": [
    "Can the modifications be expressed in either/or a combination of functional processing pipeline and operators?\n",
    "\n",
    "```apl\n",
    "(n max) KMeans data\n",
    "(n max) KMeans ZScale data\n",
    "(n max) (Metric _KMeans_ InitFn) data\n",
    "```"
   ]
  },
  {
   "cell_type": "markdown",
   "id": "7b6c7a10-2bd0-42d9-9310-949193233b62",
   "metadata": {},
   "source": [
    "\"It is better to have 100 functions operate on 1 data type than 10 functions operator on 10 data types.\""
   ]
  },
  {
   "cell_type": "markdown",
   "id": "2b7c91ed-3de7-47ed-8f9c-a7fb23ed5b10",
   "metadata": {},
   "source": [
    "This use of operators as modifiers is something I'd tried to do with APLPhys and perhaps should revisit it. It seems like the conventions are either some kind of big ol' set of parameters (named parameters in Python, namespaces in APL), some kind of scripting language (LAMMPS) or some kind of object-oriented model?\n",
    "\n",
    "With namespaces in Dyalog, we could provide both parameters and functions:\n",
    "\n",
    "```apl\n",
    "opts ← (\n",
    "    n_clusters: 6\n",
    "    max_iter: 100\n",
    "    End: {(⍺≡⍵)∨i≥max_iter⊣i+←1}\n",
    "    Distance←{0.5*⍨+/2*⍨⍺(-⍤1⍤1 2)⍵})\n",
    ")\n",
    "opts KMeans data\n",
    "```"
   ]
  },
  {
   "cell_type": "markdown",
   "id": "f7d3e045-40ed-48f7-8667-a1c357e3f8e4",
   "metadata": {},
   "source": [
    "How can we attempt to answer the Big Questions?\n",
    "\n",
    "We can attempt to recreate popular analyses in Pandas/SciPy/Scikit-learn/Julia examples (and our own personal interests). We can attempt to push the codes developed for these analyses further by looking into advanced examples from academic papers. Finally we can reach out to the domain experts at conferences, present what we have created and get feedback (and hopefully interest).\n",
    "\n",
    "There are various approaches we could attempt with this:\n",
    "1. recreate similar abstractions (e.g. options namespace)\n",
    "2. create our own unique abstractions\n",
    "3. attempt to solve the same variety of problems with direct expression\n",
    "\n",
    "(1) and (2) are attempts at creating a DSL for data science in APL - if it is well created, it could offer a path for others to build on it. (3) is more like creating a framework and set of conventions, and IMHO is a more interesting investigation. My intuition is that (3) is a way to explore the unique aspects of APL in relation to these problems, whereas (1) and (2) are attempts to meet existing expectations, and generally raise the question \"so why do this in APL?\" to me.\n"
   ]
  },
  {
   "cell_type": "markdown",
   "id": "d743d5ec-3234-4fcb-b52d-d24fda122a56",
   "metadata": {},
   "source": [
    "Future work might be worth exploring [Kaggle advanced regression techniques task](https://www.kaggle.com/c/house-prices-advanced-regression-techniques/)."
   ]
  }
 ],
 "metadata": {
  "kernelspec": {
   "display_name": "Dyalog APL",
   "language": "apl",
   "name": "dyalog_apl"
  },
  "language_info": {
   "file_extension": ".apl",
   "mimetype": "text/apl",
   "name": "APL"
  }
 },
 "nbformat": 4,
 "nbformat_minor": 5
}
