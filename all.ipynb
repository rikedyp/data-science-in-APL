{
 "cells": [
  {
   "cell_type": "code",
   "execution_count": 1,
   "id": "b7a77bf7",
   "metadata": {},
   "outputs": [
    {
     "data": {
      "text/html": [
       "<pre class=\"language-APL\">clear ws\n",
       "</pre>"
      ]
     },
     "execution_count": 1,
     "metadata": {},
     "output_type": "execute_result"
    }
   ],
   "source": [
    ")clear"
   ]
  },
  {
   "cell_type": "code",
   "execution_count": 2,
   "id": "c7912dba",
   "metadata": {},
   "outputs": [],
   "source": [
    "L←↑⍪'─'⍪↓ ⋄ T←{⎕PP←3 ⋄ 1 L⍕⍺⍪⍉'·'@(0,2≡⌿⊢)⍤1⍉⍵}  ⍝ print header and data as table"
   ]
  },
  {
   "cell_type": "markdown",
   "id": "0ab29849",
   "metadata": {},
   "source": [
    "# Berkeley\n",
    "\n",
    "In 1973, the admission data in UC Berkeley graduate schools showed a clear gender bias: a larger percentage of male applicants was being admitted. However, when the admission rates in each major are analysed, this gender bias is not observed. This is a typical example of [Simpson's paradox](https://en.wikipedia.org/wiki/Simpson%27s_paradox). To understand it, we must calculate the admission rates in total and by gender for each major and in total, as well as the percentage in which the students of each gender apply to the different majors."
   ]
  },
  {
   "cell_type": "code",
   "execution_count": 3,
   "id": "9a19299c",
   "metadata": {},
   "outputs": [],
   "source": [
    "d h←⎕CSV'berkeley.csv' ''1 1                      ⍝ read data\n",
    "a←{⍵[⍋⍵;]}d[;2 3]{⍺,(+/'Accepted'∘≡¨⍵),≢⍵}⌸d[;4]  ⍝ group admitted and applicants\n",
    "g←a⍪(⊂'Total'),a[;2]{⍺,+⌿⍵}⌸a[;3 4]               ⍝ totals by gender\n",
    "m←{⍵[⍋⍵;]}g⍪g[;1]{⍺,'T',+⌿⍵}⌸g[;3 4]              ⍝ totals by major\n",
    "ar←m,100×m[;3]÷m[;4]                              ⍝ admission ratios\n",
    "mr←ar,100×ar[;4]÷(≢ar)⍴¯3↑ar[;4]                  ⍝ applicants ratios"
   ]
  },
  {
   "cell_type": "code",
   "execution_count": 4,
   "id": "882e8e7d",
   "metadata": {},
   "outputs": [
    {
     "data": {
      "text/html": [
       "<pre class=\"language-APL\"> Major  Gender  Admitted  Applicants  %Admitted  %Applicants \n",
       "─────────────────────────────────────────────────────────────\n",
       " A      F             89         108      82.4         2.5   \n",
       " ·      M            825        1138      72.5        13.5   \n",
       " ·      T            914        1246      73.4         9.76  \n",
       " B      F             17          25      68           0.579 \n",
       " ·      M            353         560      63           6.63  \n",
       " ·      T            370         585      63.2         4.58  \n",
       " C      F            201         593      33.9        13.7   \n",
       " ·      M            120         325      36.9         3.85  \n",
       " ·      T            321         918      35           7.19  \n",
       " D      F            131         375      34.9         8.68  \n",
       " ·      M            138         417      33.1         4.94  \n",
       " ·      T            269         792      34           6.21  \n",
       " E      F             94         393      23.9         9.1   \n",
       " ·      M             53         191      27.7         2.26  \n",
       " ·      T            147         584      25.2         4.58  \n",
       " F      F             25         341       7.33        7.89  \n",
       " ·      M             22         373       5.9         4.42  \n",
       " ·      T             47         714       6.58        5.59  \n",
       " Other  F            937        2486      37.7        57.5   \n",
       " ·      M           2227        5438      41          64.4   \n",
       " ·      T           3164        7924      39.9        62.1   \n",
       " Total  F           1494        4321      34.6       100     \n",
       " ·      M           3738        8442      44.3             · \n",
       " ·      T           5232       12763      41               · \n",
       "</pre>"
      ]
     },
     "execution_count": 4,
     "metadata": {},
     "output_type": "execute_result"
    }
   ],
   "source": [
    "(h[2 3],'Admitted' 'Applicants' '%Admitted' '%Applicants')T mr"
   ]
  },
  {
   "cell_type": "markdown",
   "id": "7a3b23be",
   "metadata": {},
   "source": [
    "**TODO** bar charts. eg https://rpubs.com/dawnwp/1081716"
   ]
  },
  {
   "cell_type": "markdown",
   "id": "248cd125",
   "metadata": {},
   "source": [
    "# Iris\n",
    "\n",
    "The [Iris dataset](https://en.wikipedia.org/wiki/Iris_flower_data_set) contains measures of different features for three different classes of Iris flowers. This dataset is frequently used as an example for different data classification techniques."
   ]
  },
  {
   "cell_type": "code",
   "execution_count": 5,
   "id": "a889dc8b",
   "metadata": {},
   "outputs": [],
   "source": [
    "⍝ statistical functions (from aplcart)\n",
    "AVG←+⌿÷≢ ⋄ STD←(2*∘÷⍨+⌿÷¯1+≢)2*⍨⊢-⍤1+⌿÷≢     ⍝ average and standard deviation\n",
    "PCT←{((2÷⍨+/)⊢⌷⍨∘⊂⍋⌷⍨∘⊂∘⌈100÷⍨⍺×0 1+≢)⍵}     ⍝ percentile-⍺\n",
    "PCC←+.×⍥((⊢÷2*∘÷⍨+.×⍨)⊢-+⌿÷≢)                ⍝ Pearson correlation coefficient"
   ]
  },
  {
   "cell_type": "code",
   "execution_count": 6,
   "id": "cb0cd362",
   "metadata": {},
   "outputs": [],
   "source": [
    "_A←{(⍵[;1],∘⍺⍺⌸1↓[2]⍵)⍪(⊂'Total'),⍺⍺1↓[2]⍵}  ⍝ aggregate with total"
   ]
  },
  {
   "cell_type": "code",
   "execution_count": 7,
   "id": "3c7dbffc",
   "metadata": {},
   "outputs": [],
   "source": [
    "d←¯1⌽⎕CSV'iris.csv' ''4                      ⍝ read data\n",
    "s←(⌊⌿,AVG,STD,⌈⌿)_A d                        ⍝ statistical summary\n",
    "p←{,25 50 75∘.PCT↓⍉⍵}_A d                    ⍝ percentiles\n",
    "c←{∘.PCC⍨↓⍉⍵}_A d                            ⍝ correlation matrices"
   ]
  },
  {
   "cell_type": "code",
   "execution_count": 8,
   "id": "cce867bd",
   "metadata": {},
   "outputs": [
    {
     "data": {
      "text/html": [
       "<pre class=\"language-APL\"> class            ⌊sl  ⌊sw  ⌊pl  ⌊pw   Asl   Asw   Apl    Apw    Ssl    Ssw    Spl    Spw  ⌈sl  ⌈sw  ⌈pl  ⌈pw \n",
       "──────────────────────────────────────────────────────────────────────────────────────────────────────────────\n",
       " Iris-setosa      4.3  2.3  1    0.1  5.01  3.42  1.46  0.244  0.352  0.381  0.174  0.107  5.8  4.4  1.9  0.6 \n",
       " Iris-versicolor  4.9  2    3    1    5.94  2.77  4.26  1.33   0.516  0.314  0.47   0.198  7    3.4  5.1  1.8 \n",
       " Iris-virginica     ·  2.2  4.5  1.4  6.59  2.97  5.55  2.03   0.636  0.322  0.552  0.275  7.9  3.8  6.9  2.5 \n",
       " Total            4.3  2    1    0.1  5.84  3.05  3.76  1.2    0.828  0.434  1.76   0.763    ·  4.4    ·    · \n",
       "</pre>"
      ]
     },
     "execution_count": 8,
     "metadata": {},
     "output_type": "execute_result"
    },
    {
     "data": {
      "text/html": [
       "<pre class=\"language-APL\"> class            sl25  sl50  sl75  sw25  sw50  sw75  pl25  pl50  pl75  pw25  pw50  pw75 \n",
       "─────────────────────────────────────────────────────────────────────────────────────────\n",
       " Iris-setosa       4.8   3.1   1.4   0.2   5     3.4  1.5    0.2   5.2   3.7   1.6   0.3 \n",
       " Iris-versicolor   5.6   2.5   4     1.2   5.9   2.8  4.35   1.3   6.3   3     4.6   1.5 \n",
       " Iris-virginica    6.2   2.8   5.1   1.8   6.5   3    5.55   2     7     3.2   5.9   2.3 \n",
       " Total             5.1     ·   1.6   0.3   5.8     ·  4.35   1.3   6.4   3.3   5.1   1.8 \n",
       "</pre>"
      ]
     },
     "execution_count": 8,
     "metadata": {},
     "output_type": "execute_result"
    },
    {
     "data": {
      "text/html": [
       "<pre class=\"language-APL\"> class                sl      sw      pl      pw \n",
       "─────────────────────────────────────────────────\n",
       " Iris-setosa       1       0.747   0.264   0.279 \n",
       " ·                 0.747   1       0.177   0.28  \n",
       " ·                 0.264   0.177   1       0.306 \n",
       " ·                 0.279   0.28    0.306   1     \n",
       " Iris-versicolor   1       0.526   0.754   0.546 \n",
       " ·                 0.526   1       0.561   0.664 \n",
       " ·                 0.754   0.561   1       0.787 \n",
       " ·                 0.546   0.664   0.787   1     \n",
       " Iris-virginica    1       0.457   0.864   0.281 \n",
       " ·                 0.457   1       0.401   0.538 \n",
       " ·                 0.864   0.401   1       0.322 \n",
       " ·                 0.281   0.538   0.322   1     \n",
       " Total             1      ¯0.109   0.872   0.818 \n",
       " ·                ¯0.109   1      ¯0.421  ¯0.357 \n",
       " ·                 0.872  ¯0.421   1       0.963 \n",
       " ·                 0.818  ¯0.357   0.963   1     \n",
       "</pre>"
      ]
     },
     "execution_count": 8,
     "metadata": {},
     "output_type": "execute_result"
    }
   ],
   "source": [
    "((⊂'class'),,'⌊AS⌈'∘.,'sl' 'sw' 'pl' 'pw')T s\n",
    "((⊂'class'),,'25' '50' '75'∘.,⍨'sl' 'sw' 'pl' 'pw')T p\n",
    "('class' 'sl' 'sw' 'pl' 'pw')T⊃⍪/⊂⍤2⊢c"
   ]
  },
  {
   "cell_type": "markdown",
   "id": "4ca7f093",
   "metadata": {},
   "source": [
    "**TODO** box plots, bar charts, scatter-plot. eg http://www.lac.inpe.br/~rafael.santos/Docs/CAP394/WholeStory-Iris.html"
   ]
  },
  {
   "cell_type": "markdown",
   "id": "3dcb35ab",
   "metadata": {},
   "source": [
    "# Google\n",
    "\n",
    "A [time series](https://en.wikipedia.org/wiki/Time_series) is a series of data points indexed by time. As an example, we can analyse the number of searches for \"APL\" in the last 5 years taken from google trends: https://trends.google.com/trends/explore?date=today%205-y&q=APL"
   ]
  },
  {
   "cell_type": "code",
   "execution_count": 9,
   "id": "739d8bf1",
   "metadata": {},
   "outputs": [],
   "source": [
    "(ds n)←⎕CSV⍠'Invert'2⊢(3↓⊃⎕NGET'google-apl.csv'1)'N'4   ⍝ read data\n",
    "d←{⍲/(∧/∊∘(⎕D,'-'))¨⍵:⎕SIGNAL 11 ⋄ ↑'-'(⍎¨≠⊆⊢)¨⍵}ds     ⍝ dates\n",
    "t←d[;1 2],∘(+/)⌸n                                       ⍝ group\n",
    "s←{⍵[⍋⍵;]}¨{t[;⍵],∘(⌊⌿,(+⌿÷≢),⌈⌿,+⌿)⌸t[;3]}¨⍳2          ⍝ summary\n",
    "c←{¯2-/t[;⍵]+/⍤⊢⌸t[;3]}¨⍳¨⍳2                            ⍝ change"
   ]
  },
  {
   "cell_type": "code",
   "execution_count": 10,
   "id": "27959517",
   "metadata": {},
   "outputs": [
    {
     "data": {
      "text/html": [
       "<pre class=\"language-APL\">  Total  2019 2020 2021 2022 2023 2024   Change  2019 2020 2021 2022 2023 2024 \n",
       " ─────────────────────────────────────  ────────────────────────────────────── \n",
       "      1     ·  297  410  314  342  262        1     ·  ¯14 ¯146  ¯65  ¯77   ¯7 \n",
       "      2     ·  283  264  249  265  255        2     ·    3  ¯20   17   ¯2    · \n",
       "      3   291  286  244  266  263    ·        3   ¯19  ¯31   ¯1    3   58    · \n",
       "      4   272  255  243  269  321    ·        4     6  100   56   67  ¯69    · \n",
       "      5   278  355  299  336  252    ·        5    68  ¯51  ¯59  ¯65   42    · \n",
       "      6   346  304  240  271  294    ·        6   ¯62   13   ¯4   88   78    · \n",
       "      7   284  317  236  359  372    ·        7    ¯1   41   82  ¯57  ¯85    · \n",
       "      8   283  358  318  302  287    ·        8    81  ¯79  ¯42  ¯22  ¯18    · \n",
       "      9   364  279  276  280  269    ·        9  ¯102   25   26   32   46    · \n",
       "     10   262  304  302  312  315    ·       10    21   28  ¯74  ¯59  ¯58    · \n",
       "     11   283  332  228  253  257    ·       11    57  ¯91   ¯4  ¯24   61    · \n",
       "     12   340  241  224  229  318    ·       12   ¯43  169   90  113  ¯56    · \n",
       "</pre>"
      ]
     },
     "execution_count": 10,
     "metadata": {},
     "output_type": "execute_result"
    },
    {
     "data": {
      "text/html": [
       "<pre class=\"language-APL\">  month  min  avg  max  total    year  min  avg  max  total  change  \n",
       " ─────────────────────────────  ──────────────────────────────────── \n",
       "      1  262  325  410  1625     2019  262  300  364   3003       ·  \n",
       "      2  249  263  283  1316     2020  241  301  358   3611     608  \n",
       "      3  244  270  291  1350     2021  224  274  410   3284    ¯327  \n",
       "      4  243  272  321  1360     2022  229  287  359   3440     156  \n",
       "      5  252  304  355  1520     2023  252  296  372   3555     115  \n",
       "      6  240  291  346  1455     2024  255  259  262    517   ¯3038  \n",
       "      7  236  314  372  1568                                         \n",
       "      8  283  310  358  1548                                         \n",
       "      9  269  294  364  1468                                         \n",
       "     10  262  299  315  1495                                         \n",
       "     11  228  271  332  1353                                         \n",
       "     12  224  270  340  1352                                         \n",
       "</pre>"
      ]
     },
     "execution_count": 10,
     "metadata": {},
     "output_type": "execute_result"
    }
   ],
   "source": [
    "F←{(⍳12),⍉6 12⍴(⍺⍴'·'),⍵,(12-⍺)⍴'·'} ⋄ ⍕(((⊂'Total'),2018+⍳6)T 2 F t[;3])(((⊂'Change'),2018+⍳6)T 2 F⊃⌽c)\n",
    "l←'min' 'avg' 'max' 'total' ⋄ ⍕(((⊂'month'),l)T⊃⌽s)(((⊂'year'),l,⊂'change')T(⊃s),'·',⊃c)"
   ]
  },
  {
   "cell_type": "markdown",
   "id": "8aae2482",
   "metadata": {},
   "source": [
    "**TODO** run chart with moving average. eg https://www.geeksforgeeks.org/how-to-make-a-time-series-plot-with-rolling-average-in-python/"
   ]
  },
  {
   "cell_type": "code",
   "execution_count": null,
   "id": "a7dfdb2a",
   "metadata": {},
   "outputs": [],
   "source": []
  }
 ],
 "metadata": {
  "kernelspec": {
   "display_name": "Dyalog APL",
   "language": "apl",
   "name": "dyalog-kernel"
  },
  "language_info": {
   "file_extension": ".apl",
   "mimetype": "text/apl",
   "name": "APL"
  }
 },
 "nbformat": 4,
 "nbformat_minor": 5
}
