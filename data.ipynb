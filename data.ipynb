{
 "cells": [
  {
   "cell_type": "code",
   "execution_count": 1,
   "id": "1efd36a2",
   "metadata": {},
   "outputs": [
    {
     "data": {
      "text/html": [
       "<pre class=\"language-APL\">clear ws\n",
       "</pre>"
      ]
     },
     "execution_count": 1,
     "metadata": {},
     "output_type": "execute_result"
    }
   ],
   "source": [
    ")clear\n",
    "⎕PP←4"
   ]
  },
  {
   "cell_type": "code",
   "execution_count": 2,
   "id": "6153efb0",
   "metadata": {},
   "outputs": [
    {
     "data": {
      "text/html": [
       "<pre class=\"language-APL\">Imported: # ← C:\\Users\\34696\\jupyter\\data-science-in-APL\n",
       "</pre>"
      ]
     },
     "execution_count": 2,
     "metadata": {},
     "output_type": "execute_result"
    }
   ],
   "source": [
    "]link.import # ."
   ]
  },
  {
   "cell_type": "markdown",
   "id": "41582ffe",
   "metadata": {},
   "source": [
    "# `data` namespace\n",
    "\n",
    "**DISCLAIMER** This is a proof-of-concept. Use at your own risk. Send comments to jgl@dyalog.com\n",
    "\n",
    "## Classes\n",
    "\n",
    "<div style=\"background-color:#ffffee;\">\n",
    "\n",
    "### `data.Series` class\n",
    "\n",
    "An instance of the `data.Series` class contains a labelled 1D array.\n",
    "\n",
    "- **`label`** label of the series.\n",
    "\n",
    "- **`values`** values of the series. It must be a 1D array.\n",
    "\n",
    "Values of the array can be accessed by bracket indexing (eg: `s[2]`).\n",
    "\n",
    "The **`loc`** property allows to *locate* values.\n",
    "It returns the indices (the *location*) of the values given as indices in brackets (eg: `s.loc['A']`).\n",
    "It also allows to assign to the located values.\n",
    "\n",
    "The **`frames`** property gives access to the instances of `data.Frame` which contain this series.\n",
    "\n",
    "</div>\n",
    "<div style=\"background-color:#ffffee;\">\n",
    "\n",
    "### `data.Frame` class\n",
    "\n",
    "An instance of the `data.Frame` class contains a list of series, all of them containing arrays of the same length.\n",
    "\n",
    "- **`series`** list of series in the frame.\n",
    "\n",
    "The **`labels`** property gives access to the array of labels of the series, while **`values`** gives access to the values as a list of nested arrays.\n",
    "\n",
    "The series can be accessed by bracket indexing of rank-1 (eg: `f[⊂'label']`). Bracket indexing of rank 2 gives access to the values in the frame as a 2D array (eg: `f[2 3;'col1' 'col2']←2 2⍴⍳4`).\n",
    "\n",
    "The **`loc`** property allows to *locate* columns and values.\n",
    "Bracket indexing of rank-1 will return the index of the corresponding columns (eg: `f.loc['col1' 'col2']`).\n",
    "Rank-2 indexing allows to locate values. The corresponding indices are returned as a 2D array.\n",
    "It also allows to assign to the located values.\n",
    "\n",
    "Frames are displayed with shades at fixed row intervals. The number of rows is controlled by the **SHADE** field. The maximum number of lines displayed is controlled by **MAXLINES**.\n",
    "\n",
    "</div>\n",
    "\n",
    "## Functions and operators\n",
    "\n",
    "<div style=\"background-color:#eeffee;\">\n",
    "\n",
    "### `data.series` function\n",
    "\n",
    "This function returns an instance or a list of instances of the `data.Series` class.\n",
    "\n",
    "- `⍺ data.series ⍵` creates an instance of `data.Series` with label `⍺` and values `⍵`. If `⍺` is a series, the label is taken from it.\n",
    "- `data.series ⍵` creates an instance of `data.Series` for each of the series in `⍵` and each of the series contained in each frame in `⍵`. If `⍵` is a 2D array, it must contain series with the same label in each column, and their values will be concatenated.\n",
    "\n",
    "</div>\n",
    "<div style=\"background-color:#eeffee;\">\n",
    "\n",
    "### `data.frame` function\n",
    "\n",
    "This function returns an instance of the `data.Frame` class.\n",
    "\n",
    "- `⍺ data.frame ⍵` creates an instance of `data.Frame` with labels `⍺` (or the labels of the series list or frame `⍺`) and values `⍵`. If `⍵` is a string, the result of `⍺ data.(frame csv) ⍵` is returned.\n",
    "- `data.frame ⍵` creates an instance of `data.Frame` with each of the series returned by `data.series ⍵`. If `⍵` is a string, the result of `data.(frame csv) ⍵` is returned.\n",
    "\n",
    "</div>\n",
    "<div style=\"background-color:#eeffee;\">\n",
    "\n",
    "### `data.csv` function\n",
    "\n",
    "This function reads/writes frames from/to csv files.\n",
    "\n",
    "- `⍺ data.frame ⍵` writes the frame `⍺` to the CSV file `⍵` or read CSV file `⍵` without header and return frame with labels `⍺`.\n",
    "- `data.frame ⍵` read file `⍵` as CSV and return a frame.\n",
    "\n",
    "</div>\n",
    "<div style=\"background-color:#ffeeff;\">\n",
    "\n",
    "### `data.sort` operator\n",
    "\n",
    "This operator sorts data according to the left function.\n",
    "\n",
    "- `⍺ (⍺⍺ data.sort) ⍵` returns the data in `⍵` (a frame or list of series) sorted according to the result of `⍺⍺ ⍺` (where `⍺⍺` typically is one of `⍒⍋`).\n",
    "- `(⍺⍺ data.sort) ⍵` is equivalent to `(⍺⍺ data.sort)⍨⍵`.\n",
    "\n",
    "</div>\n",
    "<div style=\"background-color:#ffeeff;\">\n",
    "\n",
    "### `data.by` operator\n",
    "\n",
    "This operator groups data by the right operand and applies the left function.\n",
    "\n",
    "- `⍺ (⍺⍺ data.by ⍵⍵) ⍵` returns the data in `⍵` (a frame or list of series) grouped according to `⍵⍵` (also a frame or list of series) and apply `⍺⍺` to each group. A new frame is returned with the labels given in `⍺` (or `⍺.labels`). If `≢⍺` is lower than the number of series, it must contain a label for each of the additional series or a label for each of the series not in `⍵⍵`.\n",
    "- `(⍺⍺ data.by ⍵⍵) ⍵` is equivalent to `(⍺⍺ data.by ⍵⍵)⍨⍵`.\n",
    "\n",
    "</div>\n",
    "<div style=\"background-color:#ffeeff;\">\n",
    "\n",
    "### `data.where` operator\n",
    "\n",
    "This operator applies the left function to data that fulfills the condition given as right operand.\n",
    "\n",
    "- `⍺ (⍺⍺ data.where ⍵⍵) ⍵` returns the data in `⍵` (a frame or list of series) after applying the function `⍺⍺` to the values which fulfill the condition `⍵⍵ ⍺`.\n",
    "- `(⍺⍺ data.where ⍵⍵) ⍵` is equivalent to `(⍺⍺ data.where ⍵⍵)⍨⍵`.\n",
    "\n",
    "</div>\n",
    "<div style=\"background-color:#ffeeff;\">\n",
    "\n",
    "### `data.join` operator\n",
    "\n",
    "This operator merges two frames (or lists of series).\n",
    "\n",
    "- `⍺ (⍺⍺ data.join ⍵⍵) ⍵` returns frame with series labelled `⍺.labels ⍵⍵ ⍵.labels`. If two series at left and right have the same label, its values are combined as `⍺.values ⍺⍺ ⍵.values`.\n",
    "\n",
    "</div>\n",
    "\n",
    "## Example"
   ]
  },
  {
   "cell_type": "code",
   "execution_count": 3,
   "id": "19d1fe51",
   "metadata": {
    "scrolled": false
   },
   "outputs": [
    {
     "data": {
      "text/html": [
       "<pre class=\"language-APL\">  Major   Gender   Applicants   Accepted   %Accepted   %Applicants \n",
       "───────────────────────────────────────────────────────────────────\n",
       "  A       F               108         89      82.41         2.499  \n",
       "  ·       M              1138        825      72.5         13.48   \n",
       "░░░░░░░░░░T░░░░░░░░░░░░░░1246░░░░░░░░914░░░░░░73.35░░░░░░░░░9.763░░\n",
       "  B       F                25         17      68            0.5786 \n",
       "  ·       M               560        353      63.04         6.633  \n",
       "░░░░░░░░░░T░░░░░░░░░░░░░░░585░░░░░░░░370░░░░░░63.25░░░░░░░░░4.584░░\n",
       "  C       F               593        201      33.9         13.72   \n",
       "  ·       M               325        120      36.92         3.85   \n",
       "░░░░░░░░░░T░░░░░░░░░░░░░░░918░░░░░░░░321░░░░░░34.97░░░░░░░░░7.193░░\n",
       "  D       F               375        131      34.93         8.679  \n",
       "  ·       M               417        138      33.09         4.94   \n",
       "░░░░░░░░░░T░░░░░░░░░░░░░░░792░░░░░░░░269░░░░░░33.96░░░░░░░░░6.205░░\n",
       "  E       F               393         94      23.92         9.095  \n",
       "  ·       M               191         53      27.75         2.262  \n",
       "░░░░░░░░░░T░░░░░░░░░░░░░░░584░░░░░░░░147░░░░░░25.17░░░░░░░░░4.576░░\n",
       "  F       F               341         25       7.331        7.892  \n",
       "  ·       M               373         22       5.898        4.418  \n",
       "░░░░░░░░░░T░░░░░░░░░░░░░░░714░░░░░░░░░47░░░░░░░6.583░░░░░░░░5.594░░\n",
       "  Other   F              2486        937      37.69        57.53   \n",
       "  ·       M              5438       2227      40.95        64.42   \n",
       "░░░░░░░░░░T░░░░░░░░░░░░░░7924░░░░░░░3164░░░░░░39.93░░░░░░░░62.09░░░\n",
       "  Total   F              4321       1494      34.58       100      \n",
       "  ·       M              8442       3738      44.28              · \n",
       "░░░░░░░░░░T░░░░░░░░░░░░░12763░░░░░░░5232░░░░░░40.99░░░░░░░░░░░░░░░░\n",
       "</pre>"
      ]
     },
     "execution_count": 3,
     "metadata": {},
     "output_type": "execute_result"
    }
   ],
   "source": [
    "f ←   data.frame'berkeley.csv'\n",
    "a ←   data.('Applicants' 'Accepted'{(≢⍵),('A'+.=⊃¨)⍵}by'Major' 'Gender'⊢)f[]~f[⊂'Year']\n",
    "g ← a data.(⍋sort⊣,join⊣(⊂'Gender')(+⌿,'T'⍨)by(⊂'Major')⊢)a[]~a[⊂'Gender']\n",
    "m ← g data.(⍋sort⊣,join⊣(⊂'Major')(+⌿,(⊂'Total')⍨)by(⊂'Gender')⊢)g[]~g[⊂'Major']\n",
    "r ← m data.(frame⊣,'%Accepted'series⊢)100×÷/m[;'Accepted' 'Applicants']\n",
    "    r data.(frame⊣,'%Applicants'series⊢)(100×⊢÷≢⍴('T'=⊃¨r[;⊂'Major'])⌿⊢)⊢r[;⊂'Applicants']"
   ]
  },
  {
   "cell_type": "code",
   "execution_count": null,
   "id": "1ee1f0ef",
   "metadata": {},
   "outputs": [],
   "source": []
  }
 ],
 "metadata": {
  "kernelspec": {
   "display_name": "Dyalog APL",
   "language": "apl",
   "name": "dyalog-kernel"
  },
  "language_info": {
   "file_extension": ".apl",
   "mimetype": "text/apl",
   "name": "APL"
  }
 },
 "nbformat": 4,
 "nbformat_minor": 5
}
