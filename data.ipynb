{
 "cells": [
  {
   "cell_type": "markdown",
   "id": "41582ffe",
   "metadata": {},
   "source": [
    "# `data` namespace\n",
    "\n",
    "**DISCLAIMER** This is a proof-of-concept. Use at your own risk. Send comments to jgl@dyalog.com\n",
    "\n",
    "## Classes\n",
    "\n",
    "<div style=\"background-color:#ffffee;border:1px solid #ddddaa;margin:2em;padding:5px;\">\n",
    "\n",
    "### `data.Series` class\n",
    "\n",
    "An instance of the `data.Series` class contains a labelled 1D array.\n",
    "\n",
    "- **`label`** label of the series.\n",
    "\n",
    "- **`values`** values of the series. It must be a 1D array.\n",
    "\n",
    "Values of the array can be accessed and assigned by bracket indexing (eg: `s[2] ⋄ s[2]←20`).\n",
    "\n",
    "</div>\n",
    "<div style=\"background-color:#ffffee;border:1px solid #ddddaa;margin:2em;padding:5px;\">\n",
    "\n",
    "### `data.Frame` class\n",
    "\n",
    "An instance of the `data.Frame` class contains a list of series, all of them containing arrays of the same length.\n",
    "\n",
    "The series can be accessed by bracket indexing of rank-1 using indices or values (eg: `f[⊂'label']`). The properties **`series`**, **`labels`** and **`values`** of the frame `f` are respectively equivalent to `f[]`, `f[].label` and `f[].values`. Bracket indexing of rank 2 gives access to the values in the frame as a 2D array (eg: `f[2 3;'col1' 2]←2 2⍴⍳4`).\n",
    "\n",
    "Frames are displayed with shades at row intervals of the size specified by the **SHADE** property up to a maximum number of lines specified by the **MAXLINES** property.\n",
    "\n",
    "</div>\n",
    "\n",
    "## Functions and operators\n",
    "\n",
    "<div style=\"background-color:#eeffee;border:1px solid #aaddaa;margin:2em;padding:5px;\">\n",
    "\n",
    "### `data.series` function\n",
    "\n",
    "This function returns an instance or a list of instances of the `data.Series` class.\n",
    "\n",
    "- `⍺ data.series ⍵` creates an instance of `data.Series` with label `⍺` and values `⍵`. If `⍺` is a series, the label is taken from it.\n",
    "- `data.series ⍵` creates an instance of `data.Series` for each of the series in `⍵` and each of the series contained in each frame in `⍵`. If `⍵` is a 2D array, it must contain series with the same label in each column, and their values will be concatenated.\n",
    "\n",
    "</div>\n",
    "<div style=\"background-color:#eeffee;border:1px solid #aaddaa;margin:2em;padding:5px;\">\n",
    "\n",
    "### `data.frame` function\n",
    "\n",
    "This function returns an instance of the `data.Frame` class.\n",
    "\n",
    "- `⍺ data.frame ⍵` creates an instance of `data.Frame` with labels `⍺` (or the labels of the series list or frame `⍺`) and values `⍵`. If `⍵` is a string, writes the frame `⍺` to the CSV file `⍵` or read CSV file `⍵` without header and returns frame with labels `⍺`.\n",
    "- `data.frame ⍵` creates an instance of `data.Frame` with each of the series returned by `data.series ⍵`. If `⍵` is a string, read file `⍵` as CSV with header and returns frame.\n",
    "\n",
    "</div>\n",
    "<div style=\"background-color:#ffeeff;border:1px solid #ddaadd;margin:2em;padding:5px;\">\n",
    "\n",
    "### `data.sort` operator\n",
    "\n",
    "This operator sorts data according to the left function.\n",
    "\n",
    "- `⍺ (⍺⍺ data.sort) ⍵` returns `⍵` (a frame or list of series) sorted according to the result of `⍺⍺ ⍺` (where `⍺⍺` typically is one of `⍒⍋`).\n",
    "- `(⍺⍺ data.sort) ⍵` is equivalent to `(⍺⍺ data.sort)⍨⍵`.\n",
    "\n",
    "</div>\n",
    "<div style=\"background-color:#ffeeff;border:1px solid #ddaadd;margin:2em;padding:5px;\">\n",
    "\n",
    "### `data.by` operator\n",
    "\n",
    "This operator groups data by the right operand and applies the left function.\n",
    "\n",
    "- `⍺ (⍺⍺ data.by ⍵⍵) ⍵` returns the data in `⍵` (a frame or list of series) grouped according to `⍵⍵` (also a frame or list of series) and apply `⍺⍺` to each group. A new frame is returned with the labels given in `⍺` (or `⍺.labels`). If `≢⍺` is lower than the number of series, it must contain a label for each of the additional series or a label for each of the series not in `⍵⍵`.\n",
    "- `(⍺⍺ data.by ⍵⍵) ⍵` is equivalent to `(⍺⍺ data.by ⍵⍵)⍨⍵`.\n",
    "\n",
    "</div>\n",
    "<div style=\"background-color:#ffeeff;border:1px solid #ddaadd;margin:2em;padding:5px;\">\n",
    "\n",
    "### `data.join` operator\n",
    "\n",
    "This operator merges two frames (or lists of series).\n",
    "\n",
    "- `⍺ (⍺⍺ data.join ⍵⍵) ⍵` returns frame with series labelled `⍺.labels ⍵⍵ ⍵.labels`. If two series at left and right have the same label, its values are combined as `⍺.values ⍺⍺ ⍵.values`.\n",
    "- `(⍺⍺ data.join ⍵⍵) ⍵` returns frame with labels `⍵⍵ ⍵.labels` and values `⍺⍺ ⍵.values`.\n",
    "\n",
    "</div>\n",
    "\n",
    "## Examples"
   ]
  },
  {
   "cell_type": "code",
   "execution_count": 1,
   "id": "1efd36a2",
   "metadata": {},
   "outputs": [
    {
     "data": {
      "text/html": [
       "<pre class=\"language-APL\">clear ws\n",
       "</pre>"
      ]
     },
     "execution_count": 1,
     "metadata": {},
     "output_type": "execute_result"
    }
   ],
   "source": [
    ")clear\n",
    "⎕PP←3\n",
    "] _←link.import # .  ⍝ import data namespace from current directory"
   ]
  },
  {
   "cell_type": "markdown",
   "id": "3eec995d",
   "metadata": {},
   "source": [
    "### Berkeley"
   ]
  },
  {
   "cell_type": "code",
   "execution_count": 2,
   "id": "19d1fe51",
   "metadata": {
    "scrolled": false
   },
   "outputs": [
    {
     "data": {
      "text/html": [
       "<pre class=\"language-APL\"> Major  Gender  Applicants  Accepted  %Accepted  %Applicants\n",
       "─────────────────────────────────────────────────────────────\n",
       " A      F              108        89      82.4         2.5\n",
       "        M             1138       825      72.5        13.5\n",
       "░░░░░░░░T░░░░░░░░░░░░░1246░░░░░░░914░░░░░░73.4░░░░░░░░░9.76░░\n",
       " B      F               25        17      68           0.579\n",
       "        M              560       353      63           6.63\n",
       "░░░░░░░░T░░░░░░░░░░░░░░585░░░░░░░370░░░░░░63.2░░░░░░░░░4.58░░\n",
       " C      F              593       201      33.9        13.7\n",
       "        M              325       120      36.9         3.85\n",
       "░░░░░░░░T░░░░░░░░░░░░░░918░░░░░░░321░░░░░░35░░░░░░░░░░░7.19░░\n",
       " D      F              375       131      34.9         8.68\n",
       "        M              417       138      33.1         4.94\n",
       "░░░░░░░░T░░░░░░░░░░░░░░792░░░░░░░269░░░░░░34░░░░░░░░░░░6.21░░\n",
       " E      F              393        94      23.9         9.1\n",
       "        M              191        53      27.7         2.26\n",
       "░░░░░░░░T░░░░░░░░░░░░░░584░░░░░░░147░░░░░░25.2░░░░░░░░░4.58░░\n",
       " F      F              341        25       7.33        7.89\n",
       "        M              373        22       5.9         4.42\n",
       "░░░░░░░░T░░░░░░░░░░░░░░714░░░░░░░░47░░░░░░░6.58░░░░░░░░5.59░░\n",
       " Other  F             2486       937      37.7        57.5\n",
       "        M             5438      2227      41          64.4\n",
       "░░░░░░░░T░░░░░░░░░░░░░7924░░░░░░3164░░░░░░39.9░░░░░░░░62.1░░░\n",
       " Total  F             4321      1494      34.6       100\n",
       "        M             8442      3738      44.3\n",
       "░░░░░░░░T░░░░░░░░░░░░12763░░░░░░5232░░░░░░41░░░░░░░░░░░░░░░░░\n",
       "</pre>"
      ]
     },
     "execution_count": 2,
     "metadata": {},
     "output_type": "execute_result"
    }
   ],
   "source": [
    "f ←   data.frame'berkeley.csv'\n",
    "a ←   data.('Applicants' 'Accepted'{(≢⍵),('A'+.=⊃¨)⍵}by'Major' 'Gender'⊢)f[]~f[⊂'Year']\n",
    "g ← a data.(⍋sort⊣,join⊣(⊂'Gender')(+⌿,'T'⍨)by(⊂'Major')⊢)a[]~a[⊂'Gender']\n",
    "m ← g data.(⍋sort⊣,join⊣(⊂'Major')(+⌿,(⊂'Total')⍨)by(⊂'Gender')⊢)g[]~g[⊂'Major']\n",
    "r ← m data.(frame⊣,'%Accepted'series⊢)100×÷/m[;'Accepted' 'Applicants']\n",
    "    r data.(frame⊣,'%Applicants'series⊢)(100×⊢÷≢⍴('T'=⊃¨r[;⊂'Major'])⌿⊢)⊢r[;⊂'Applicants']"
   ]
  },
  {
   "cell_type": "markdown",
   "id": "2711a2bc",
   "metadata": {},
   "source": [
    "### Iris"
   ]
  },
  {
   "cell_type": "code",
   "execution_count": 3,
   "id": "c2620c9f",
   "metadata": {
    "scrolled": false
   },
   "outputs": [
    {
     "data": {
      "text/html": [
       "<pre class=\"language-APL\">   class            ⌊sl   Asl    Ssl  ⌈sl  sl25  sl50  sl75      sl                  sw      pl     pw  class  \n",
       "  ──────────────────────────────────────────────────────────    ────────────────────────────────────────────── \n",
       "   Iris-setosa      4.3  5.01  0.352  5.8   4.8   5     5.2      Iris-setosa      1       0.747  0.264  0.279  \n",
       "   Iris-versicolor  4.9  5.94  0.516  7     5.6   5.9   6.3                       0.747   1      0.177  0.28   \n",
       "   Iris-virginica        6.59  0.636  7.9   6.2   6.5   7                         0.264   0.177  1      0.306  \n",
       "                                                                ░░░░░░░░░░░░░░░░░░0.279░░░0.28░░░0.306░░1░░░░░ \n",
       "   class            ⌊sw   Asw    Ssw  ⌈sw  sw25  sw50  sw75      Iris-versicolor  1       0.526  0.754  0.546  \n",
       "  ──────────────────────────────────────────────────────────                      0.526   1      0.561  0.664  \n",
       "   Iris-setosa      2.3  3.42  0.381  4.4   3.1   3.4   3.7                       0.754   0.561  1      0.787  \n",
       "   Iris-versicolor  2    2.77  0.314  3.4   2.5   2.8   3       ░░░░░░░░░░░░░░░░░░0.546░░░0.664░░0.787░░1░░░░░ \n",
       "   Iris-virginica   2.2  2.97  0.322  3.8   2.8   3     3.2      Iris-virginica   1       0.457  0.864  0.281  \n",
       "                                                                                  0.457   1      0.401  0.538  \n",
       "   class            ⌊pl   Apl    Spl  ⌈pl  pl25  pl50  pl75                       0.864   0.401  1      0.322  \n",
       "  ──────────────────────────────────────────────────────────    ░░░░░░░░░░░░░░░░░░0.281░░░0.538░░0.322░░1░░░░░ \n",
       "   Iris-setosa      1    1.46  0.174  1.9   1.4  1.5    1.6      Class            0.783  ¯0.419  0.949  0.956  \n",
       "   Iris-versicolor  3    4.26  0.47   5.1   4    4.35   4.6                                                    \n",
       "   Iris-virginica   4.5  5.55  0.552  6.9   5.1  5.55   5.9                                                    \n",
       "                                                                                                               \n",
       "   class            ⌊pw    Apw    Spw  ⌈pw  pw25  pw50  pw75                                                   \n",
       "  ───────────────────────────────────────────────────────────                                                  \n",
       "   Iris-setosa      0.1  0.244  0.107  0.6   0.2   0.2   0.3                                                   \n",
       "   Iris-versicolor  1    1.33   0.198  1.8   1.2   1.3   1.5                                                   \n",
       "   Iris-virginica   1.4  2.03   0.275  2.5   1.8   2     2.3                                                   \n",
       "</pre>"
      ]
     },
     "execution_count": 3,
     "metadata": {},
     "output_type": "execute_result"
    }
   ],
   "source": [
    "AVG←+⌿÷≢ ⋄ STD←(2*∘÷⍨+⌿÷¯1+≢)2*⍨⊢-⍤1+⌿÷≢     ⍝ average and standard deviation\n",
    "PCT←{((2÷⍨+/)⊢⌷⍨∘⊂⍋⌷⍨∘⊂∘⌈100÷⍨⍺×0 1+≢)⍵}     ⍝ percentile-⍺\n",
    "PCC←+.×⍥((⊢÷2*∘÷⍨+.×⍨)⊢-+⌿÷≢)                ⍝ Pearson correlation coefficient\n",
    "f←'sl' 'sw' 'pl' 'pw' 'class'data.frame'iris.csv'\n",
    "aggs←{l f←⍺⍵ ⋄ ⍪,¨⍺⍺{(⍺⍺ ⍵)⍵⍵data.by(f[l])⊢f[⊂⍵]}⍵⍵¨f.labels~l}\n",
    "s←(⊂'class'){'⌊AS⌈',¨⊂⍵}aggs(⌊⌿,AVG,STD,⌈⌿)f\n",
    "p←(⊂'class')('25' '50' '75',⍨¨⊂)aggs(,25 50 75∘.PCT↓∘⍉)f\n",
    "s←s{data.frame⍺.series,1↓⍵.series}¨¨p ⋄ s.SHADE←0\n",
    "pcc←(⊂'pcc'){⊂∘.PCC⍨↓⍉⍵}data.by(⊂'class')⊢f\n",
    "pcc.values,∘⊂¨←(⊂'Class'),⊂({(∪⍵)⍳⍵}f[;⊂'class'])∘PCC¨f[f.labels~⊂'class'].values\n",
    "pcc←f data.frame ⊃⍪/{(⊂⍺),⍤1⊢⍵}/pcc[;] ⋄ pcc.SHADE←4\n",
    "⍕(⍪⊃(⊣,(⊂''),⊢)⌿s)pcc"
   ]
  }
 ],
 "metadata": {
  "kernelspec": {
   "display_name": "Dyalog APL",
   "language": "apl",
   "name": "dyalog-kernel"
  },
  "language_info": {
   "file_extension": ".apl",
   "mimetype": "text/apl",
   "name": "APL"
  }
 },
 "nbformat": 4,
 "nbformat_minor": 5
}
