{
 "cells": [
  {
   "cell_type": "markdown",
   "id": "80c04bcf-ce28-46d5-afb1-2eaa5a02f79c",
   "metadata": {},
   "source": [
    "## Clustering Data\n",
    "*Multidimensional grouping*\n",
    "\n",
    "Sometimes data in multiple dimensions shows trends which are not consistent throughout the set. Often, when plotted, it is clear to the human viewer that we can describe the data in multiple groups, or \"clusters\".\n",
    "\n",
    "This version uses an inverted table format. See the [nested matrix](nested.ipynb) format for comparison as well as the [performance, ergonomics and aesthetics comparison](comparison.ipynb)."
   ]
  },
  {
   "cell_type": "code",
   "execution_count": 10,
   "id": "1dcbd502-605e-4ab9-b4b1-8ccaa4281a75",
   "metadata": {},
   "outputs": [],
   "source": [
    "∇ KMeans←{\n",
    "⍝ ⍺: number of clusters :: scalar integer\n",
    "⍝ ⍵: data set           :: inverted table\n",
    "  n←⍺\n",
    "  ComputeCentroids←{\n",
    "    d←0.5*⍨⊃+/2*⍨⍺∘.-¨⍵        ⍝ distances from points to centroids\n",
    "    g←d⍳⍤1 0⌊/d                ⍝ cluster (group) for each data point\n",
    "    (⊂d⍳⍤1 0⌊/d){(+⌿÷≢)⍵}⌸¨⍺   ⍝ new clusters are means of points in each group\n",
    "  }\n",
    "  i←0\n",
    "  I←{(⊂⊂⍺)⌷¨⍵}\n",
    "  c←3(?∘≢∘⊃I⊢)⍵                ⍝ guess random centroids\n",
    "  ⍵ ComputeCentroids⍣≡c   ⍝ Compute centroids\n",
    "}\n",
    "∇"
   ]
  },
  {
   "cell_type": "markdown",
   "id": "589f648d-d1b3-4fac-b512-3e3291ef999a",
   "metadata": {},
   "source": [
    "## Configuration"
   ]
  },
  {
   "cell_type": "markdown",
   "id": "ee8fd54b-ae8c-43bf-af36-e2b610801a67",
   "metadata": {},
   "source": [
    "### Maximum Iterations\n",
    "Provide a scalar integer indicating the maximum number of iterations allowed.\n",
    "\n",
    "```apl\n",
    " (n max)←⍺\n",
    " i←0\n",
    " End←{\n",
    "     ⍺≡⍵: 1       ⍝ Converged\n",
    "     i=max⊣i+←1   ⍝ Maximum iterations reached\n",
    " }\n",
    " ⍵ ComputeCentroids⍣End c\n",
    "```"
   ]
  },
  {
   "cell_type": "markdown",
   "id": "87ec0654-56a8-4817-9cf2-b0e172facebc",
   "metadata": {},
   "source": [
    "### Convergence Threshold"
   ]
  },
  {
   "cell_type": "markdown",
   "id": "74f7ea86-d00f-44a1-abe8-58fa3d606941",
   "metadata": {},
   "source": [
    "The iteration will end if the [distance](#Distance-Metric) between the centroids of the previous and this iteration is less than or equal to the convergence threshold.\n",
    "\n",
    "```apl\n",
    " (n e)←⍺\n",
    " End←{\n",
    "     d←0.5*⍨⊃+/2*⍨⍺-⍵\n",
    "     ∧/d≤e\n",
    " }\n",
    " ⍵ ComputeCentroids⍣End c\n",
    "```"
   ]
  },
  {
   "cell_type": "markdown",
   "id": "6aa0a968-a65f-4150-9b40-c876e95d8586",
   "metadata": {},
   "source": [
    "### Distance Metric\n",
    "Change the function that computes the distance between any two points.\n",
    "\n",
    "```apl\n",
    "d←0.5*⍨+/×⍨⍺∘.-¨⍵                ⍝ Euclidean distance from points to centroid\n",
    "d←+/|⍺∘.-¨⍵                      ⍝ Manhattan distance\n",
    "⍝ Cosine similarity\n",
    "```"
   ]
  },
  {
   "cell_type": "markdown",
   "id": "0a919785-d2d4-49c8-8634-2a350f342273",
   "metadata": {},
   "source": [
    "### Data Scaling / Normalisation Method\n",
    "Optionally scale the data before using it to scale centroids.\n",
    "\n",
    "```apl\n",
    "s ← Scale ⍵\n",
    "s ComputeCentroids⍣End⊢c\n",
    "```\n",
    "\n",
    "#### Min-max scaling\n",
    "\n",
    "#### Z-score standardisation\n",
    "\n",
    "#### Robust scaling with quartiles\n",
    "\n",
    "#### Log transform scaling\n",
    "\n",
    "#### Power transform\n"
   ]
  },
  {
   "cell_type": "markdown",
   "id": "7dbb8628-abb7-408b-be1e-28122e0fe0da",
   "metadata": {},
   "source": [
    "## Initialisation Method\n",
    "\n",
    "### K-means++\n",
    "Choose new centroids from data with likelihood proportional to distance to nearest existing centroid.\n",
    "\n",
    "```apl\n",
    "∇  Kpp ← {\n",
    "⍝ K-means++ initialisation\n",
    "   ⍺←⍉⍪(?∘≢⌷⊢)⍵           ⍝ Random initial centroid\n",
    "   n=≢⍺:⍺                 ⍝ We have n centroids, stop\n",
    "   d2←⌊/+/×⍨⍵∘.-¨⍺   ⍝ Smallest squared distance between data and centroids\n",
    "   p←d2÷+/d2              ⍝ Normalised distances as probabilities (weights)\n",
    "   c←⍵⌷⍨⊂(+\\p)⍸?0         ⍝ Choose new centroid\n",
    "   (⍺⍪c) ∇ ⍵      \n",
    " }\n",
    "∇\n",
    "```"
   ]
  }
 ],
 "metadata": {
  "kernelspec": {
   "display_name": "Dyalog APL",
   "language": "apl",
   "name": "dyalog_apl"
  },
  "language_info": {
   "file_extension": ".apl",
   "mimetype": "text/apl",
   "name": "APL"
  }
 },
 "nbformat": 4,
 "nbformat_minor": 5
}
