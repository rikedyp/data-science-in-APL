{
 "cells": [
  {
   "cell_type": "markdown",
   "id": "b9c5f235-c730-4d23-803b-833a9fefab98",
   "metadata": {},
   "source": [
    "## Clustering algorithms: nested matrices vs. inverted tables\n",
    "Here we compare and contrast the two approaches outlined in the two clustering implementations using [nested matrices](nested.ipynb) and [inverted tables](inverted.ipynb)."
   ]
  },
  {
   "cell_type": "markdown",
   "id": "add8ab57-6d86-4ae7-a40e-6978a7ebce85",
   "metadata": {},
   "source": [
    "## Memory use\n",
    "\n",
    "### Representation\n",
    "The size of each representation as follows:\n",
    "\n",
    "|     Format     | Full data | Lengths subset |\n",
    "| -------------- | --------- | -------------- |\n",
    "| Nested matrix  |     278kB |           56kB |\n",
    "| Inverted table |      74kB |           18kB |"
   ]
  },
  {
   "cell_type": "code",
   "execution_count": 3,
   "id": "5aad2d43-dae0-4cdf-8081-9b763f61e133",
   "metadata": {},
   "outputs": [
    {
     "data": {
      "text/html": [
       "<pre class=\"language-APL\">#.penguins_lter\n",
       "</pre>"
      ]
     },
     "execution_count": 3,
     "metadata": {},
     "output_type": "execute_result"
    },
    {
     "data": {
      "text/html": [
       "<pre class=\"language-APL\">278080\n",
       "</pre>"
      ]
     },
     "execution_count": 3,
     "metadata": {},
     "output_type": "execute_result"
    },
    {
     "data": {
      "text/html": [
       "<pre class=\"language-APL\">74056\n",
       "</pre>"
      ]
     },
     "execution_count": 3,
     "metadata": {},
     "output_type": "execute_result"
    },
    {
     "data": {
      "text/html": [
       "<pre class=\"language-APL\">55800\n",
       "</pre>"
      ]
     },
     "execution_count": 3,
     "metadata": {},
     "output_type": "execute_result"
    },
    {
     "data": {
      "text/html": [
       "<pre class=\"language-APL\">17960\n",
       "</pre>"
      ]
     },
     "execution_count": 3,
     "metadata": {},
     "output_type": "execute_result"
    }
   ],
   "source": [
    "]get ../csv/penguins_lter.csv\n",
    "inverted←(1⌷penguins_lter)(↑¨↓⍉1↓penguins_lter)\n",
    "⎕SIZE'penguins_lter'\n",
    "⎕SIZE'inverted'\n",
    "cols ← 'Culmen Length (mm)' 'Flipper Length (mm)' 'Species'\n",
    "lengths←penguins_lter[;(1⌷penguins_lter)⍳⊆cols]\n",
    "(head data)←inverted\n",
    "I←{(⊂⍺)⌷⍵}\n",
    "lengths_inv←(cols)((head⍳cols) I data)\n",
    "⎕SIZE'lengths'\n",
    "⎕SIZE'lengths_inv'"
   ]
  },
  {
   "cell_type": "markdown",
   "id": "6ca69da5-1503-4e52-8ddb-00cadf9871fd",
   "metadata": {
    "jp-MarkdownHeadingCollapsed": true
   },
   "source": [
    "### Computation\n",
    "We will use the function `Memory` that estimates the memory required to run a function using the high water mark from [the memory manager](https://help.dyalog.com/latest/Content/Language/I%20Beam%20Functions/Memory%20Manager%20Statistics.htm)."
   ]
  },
  {
   "cell_type": "code",
   "execution_count": 10,
   "id": "ad106e7f-7e1f-47f3-908f-75d22b8e3d45",
   "metadata": {},
   "outputs": [],
   "source": [
    "∇ used←Memory expr\n",
    "  {}⎕WA\n",
    "  {}0(2000⌶)14\n",
    "  hwm←2000⌶14\n",
    "  {}⍎expr\n",
    "  used←hwm-⍨2000⌶14\n",
    "∇"
   ]
  },
  {
   "cell_type": "markdown",
   "id": "56e6b64d-41f1-4ef4-8444-3f96311dbb25",
   "metadata": {},
   "source": [
    "## Compute Time\n",
    "We will ignore the compute time of ingesting the data as usually this is a fixed cost and can probably be made comparable for the two formats. For convenience I am using the `]Get` user command which interprets CSV as a nested matrix by default, but we can easily imagine modifying this for inverted tables if needed."
   ]
  },
  {
   "cell_type": "code",
   "execution_count": 71,
   "id": "bbce1e87-fb51-4d59-9b79-f7c2cfab9398",
   "metadata": {},
   "outputs": [],
   "source": [
    "∇ KMeans←{\n",
    "⍝ ⍺: n←number of clusters :: scalar integer\n",
    "⍝ ⍵: data set             :: numeric matrix 1 column per field\n",
    "  n←⍺\n",
    "  ComputeCentroids←{\n",
    "    d←0.5*⍨+/2*⍨⍺(-⍤1⍤1 2)⍵   ⍝ distance from points to centroids\n",
    "    g←d⍳⍤1 0⌊/d               ⍝ cluster (group) for each data point\n",
    "    g{(+⌿÷1⌈≢)⍵}⌸⍺            ⍝ new clusters are means of points in each group\n",
    "  }\n",
    "  i←0\n",
    "  I←{(⊂⍺)⌷⍵}   ⍝ ⊂⍛⌷      ⍝ Indexing\n",
    "  c←n(?∘≢I⊢)⍵             ⍝ Guess random centroids\n",
    "  ⍵ ComputeCentroids⍣≡c   ⍝ Compute centroids\n",
    "}\n",
    "∇"
   ]
  },
  {
   "cell_type": "code",
   "execution_count": 12,
   "id": "c68e6e54-3ce9-432b-84d3-ef9943d2c18b",
   "metadata": {},
   "outputs": [],
   "source": [
    "∇ KMeansInverted←{\n",
    "⍝ ⍺: number of clusters :: scalar integer\n",
    "⍝ ⍵: data set           :: inverted table\n",
    "  n←⍺\n",
    "  ComputeCentroids←{\n",
    "    d←0.5*⍨⊃+/2*⍨⍺∘.-¨⍵        ⍝ distances from points to centroids\n",
    "    g←d⍳⍤1 0⌊/d                ⍝ cluster (group) for each data point\n",
    "    (⊂d⍳⍤1 0⌊/d){(+⌿÷≢)⍵}⌸¨⍺   ⍝ new clusters are means of points in each group\n",
    "  }\n",
    "  i←0\n",
    "  I←{(⊂⊂⍺)⌷¨⍵}\n",
    "  c←3(?∘≢∘⊃I⊢)⍵                ⍝ guess random centroids\n",
    "  ⍵ ComputeCentroids⍣≡c   ⍝ Compute centroids\n",
    "}\n",
    "∇"
   ]
  },
  {
   "cell_type": "markdown",
   "id": "df7af613-2ef8-4fa9-a8b2-2c25f7fbbb9c",
   "metadata": {},
   "source": [
    "⍳3"
   ]
  },
  {
   "cell_type": "markdown",
   "id": "4bd0ab33-283b-43d9-ba89-1cc35a641e8a",
   "metadata": {},
   "source": [
    "First we remove 0 values."
   ]
  },
  {
   "cell_type": "code",
   "execution_count": 51,
   "id": "7f458c44-80e6-4d77-a58d-39771f21fc5a",
   "metadata": {},
   "outputs": [],
   "source": [
    "clean←(1 ¯1↓lengths)⌿⍨nz←∨/1≠(,0)⍳(1 ¯1↓lengths)\n",
    "clean_inv←nz∘⌿¨2↑2⊃lengths_inv"
   ]
  },
  {
   "cell_type": "code",
   "execution_count": 52,
   "id": "cea3e8c2-4b3d-488f-901f-424a9d84bc9f",
   "metadata": {},
   "outputs": [
    {
     "data": {
      "text/html": [
       "<pre class=\"language-APL\">38.4275     186.9916667\n",
       "45.95483871 196.7311828\n",
       "47.56744186 216.8837209\n",
       "</pre>"
      ]
     },
     "execution_count": 52,
     "metadata": {},
     "output_type": "execute_result"
    }
   ],
   "source": [
    "3 KMeans clean"
   ]
  },
  {
   "cell_type": "code",
   "execution_count": 57,
   "id": "47b88bea-0fa4-4adf-849c-a510636565c9",
   "metadata": {},
   "outputs": [
    {
     "data": {
      "text/html": [
       "<pre class=\"language-APL\">Was ON\n",
       "</pre>"
      ]
     },
     "execution_count": 57,
     "metadata": {},
     "output_type": "execute_result"
    },
    {
     "data": {
      "text/html": [
       "<pre class=\"language-APL\">┌───────────────────────────────┬───────────────────────────────────┐\n",
       "│38.4275 45.95483871 47.56744186│186.9916667 196.7311828 216.8837209│\n",
       "└───────────────────────────────┴───────────────────────────────────┘\n",
       "</pre>"
      ]
     },
     "execution_count": 57,
     "metadata": {},
     "output_type": "execute_result"
    }
   ],
   "source": [
    "]box on\n",
    "3 KMeansInverted clean_inv"
   ]
  },
  {
   "cell_type": "code",
   "execution_count": 58,
   "id": "4902e508-1a48-4493-a943-9416944d72f4",
   "metadata": {},
   "outputs": [
    {
     "data": {
      "text/html": [
       "<pre class=\"language-APL\">                                                                                      \n",
       "  3 KMeans clean             → 1.3E¯3 |   0% ⎕⎕⎕⎕⎕⎕⎕⎕⎕⎕⎕⎕⎕⎕⎕⎕⎕⎕⎕⎕⎕⎕⎕⎕⎕⎕⎕⎕⎕⎕⎕⎕⎕⎕⎕⎕⎕⎕⎕⎕ \n",
       "* 3 KMeansInverted clean_inv → 6.9E¯4 | -49% ⎕⎕⎕⎕⎕⎕⎕⎕⎕⎕⎕⎕⎕⎕⎕⎕⎕⎕⎕⎕⎕                    \n",
       "</pre>"
      ]
     },
     "execution_count": 58,
     "metadata": {},
     "output_type": "execute_result"
    }
   ],
   "source": [
    "]runtime -c \"3 KMeans clean\" \"3 KMeansInverted clean_inv\""
   ]
  },
  {
   "cell_type": "markdown",
   "id": "b2485030-2970-4081-baad-cff4f248b129",
   "metadata": {},
   "source": [
    "## Ergonomics and Aesthetics\n",
    "Dyalog out-of-the-box offers affordances to the nested matrix format in terms of notational convenience.\n",
    "\n",
    "Indexing is leading-axis oriented, so selecting from a matrix feels natural. But since we write a cover for Select `{(⊂⍺)⌷⍵}`, a different cover for inverted tables isn't any worse.\n",
    "\n",
    "The length of columns in an inverted table requires a disclose `≢∘⊃` vs simply `≢` for the matrix.\n",
    "\n",
    "In both cases, the obvious comparison in mainstream languages is the Data Frame structure. In our case, we have opted to separate the header from the data in both formats. This must be done in the inverted tables, otherwise the benefit of storing homogeneous columns is lost. For nested matrices, we are simply trading `(1⌷table)⍳⊆column_names` for `head⍳⊆column_names`.\n",
    "\n",
    "It's actually surprising how little of the soup has to change between the matrix and inverted table formats. Once the initial processing over records is done (in our case, outer product difference and use of key), you tend towards a simple intermediate array and usually a simple array result for statistical processes.\n",
    "\n",
    "Additional encloses, discloses (firsts) and eaches are a little irksome. Take the \"guess $n$ random centroids\". There is a lovely ambivalent train.\n",
    "\n",
    "```apl\n",
    "(⊂⍤?∘≢⌷⊢)⍵    ⍝ Choose 1 from ⍵\n",
    "n(⊂⍤?∘≢⌷⊢)⍵   ⍝ Choose n from ⍵\n",
    "```\n",
    "\n",
    "Modifications for an inverted table are a bit nasty\n",
    "\n",
    "```apl\n",
    "(⊂⍤⊂⍤?∘≢∘⊃⌷¨⊢)⍵         ⍝ Choose 1 from ⍵\n",
    "n(⊂⍤⊂⍤?∘≢∘⊃⌷¨⊢)⍵        ⍝ Choose n from ⍵\n",
    "n{⍺←1 ⋄ (⊂⍺?≢⍵)∘⌷¨⍵}⍵   ⍝ Maybe better as a dfn\n",
    "```\n",
    "\n",
    "The difference isn't as stark if we cover indexing.\n",
    "\n",
    "```apl\n",
    "I←{(⊂⍺)⌷⍵}\n",
    "c←n(?∘≢I⊢)⍵\n",
    "```\n",
    "\n",
    "The equivalent for inverted tables.\n",
    "\n",
    "```apl\n",
    "I←{(⊂⍺)∘⌷¨⍵}\n",
    "c←n(?∘≢∘⊃I⊢)⍵\n",
    "```\n"
   ]
  }
 ],
 "metadata": {
  "kernelspec": {
   "display_name": "Dyalog APL",
   "language": "apl",
   "name": "dyalog_apl"
  },
  "language_info": {
   "file_extension": ".apl",
   "mimetype": "text/apl",
   "name": "APL"
  }
 },
 "nbformat": 4,
 "nbformat_minor": 5
}
