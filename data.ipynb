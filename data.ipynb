{
 "cells": [
  {
   "cell_type": "code",
   "execution_count": 1,
   "id": "b067d385",
   "metadata": {},
   "outputs": [
    {
     "data": {
      "text/html": [
       "<pre class=\"language-APL\">clear ws\n",
       "</pre>"
      ]
     },
     "execution_count": 1,
     "metadata": {},
     "output_type": "execute_result"
    }
   ],
   "source": [
    ")clear\n",
    "⎕PP←4"
   ]
  },
  {
   "cell_type": "code",
   "execution_count": 2,
   "id": "8c3c1e71",
   "metadata": {},
   "outputs": [
    {
     "data": {
      "text/html": [
       "<pre class=\"language-APL\">Imported: # ← C:\\Users\\34696\\jupyter\\data-science-in-APL\n",
       "</pre>"
      ]
     },
     "execution_count": 2,
     "metadata": {},
     "output_type": "execute_result"
    }
   ],
   "source": [
    "]link.import # ."
   ]
  },
  {
   "cell_type": "markdown",
   "id": "c4ea2e84",
   "metadata": {},
   "source": [
    "# Data Science in APL\n",
    "\n",
    "**DISCLAIMER** This is a proof-of-concept. Use at your own risk. Send comments to jgl@dyalog.com\n",
    "\n",
    "## `data` namespace\n",
    "\n",
    "### Classes\n",
    "\n",
    "#### `data.Series` class\n",
    "\n",
    "An instance of the `data.Series` class contains a labelled 1D array.\n",
    "\n",
    "- **`label`** label of the series.\n",
    "\n",
    "- **`values`** values of the series. It must be a 1D array.\n",
    "\n",
    "Values of the array can be accessed by bracket indexing (eg: `s[2]`).\n",
    "\n",
    "The **`loc`** property allows to *locate* values.\n",
    "It returns the indices (the *location*) of the values given as indices in brackets (eg: `s.loc['A']`).\n",
    "It also allows to assign to the located values.\n",
    "\n",
    "The **`frames`** property gives access to the instances of `data.Frame` which contain this series.\n",
    "\n",
    "The monadic **`series`** method returns a new series with the same label and the right argument as values.\n",
    "\n",
    "#### `data.Frame` class\n",
    "\n",
    "An instance of the `data.Frame` class contains a list of series, all of them containing arrays of the same length.\n",
    "\n",
    "- **`series`** list of series in the frame.\n",
    "\n",
    "The **`labels`** property gives access to the array of labels of the series, while **`values`** gives access to the values as a list of nested arrays.\n",
    "\n",
    "The series can be accessed by bracket indexing of rank-1 (eg: `f[⊂'label']`). Bracket indexing of rank 2 gives access to the values in the frame as a 2D array (eg: `f[2 3;'col1' 'col2']←2 2⍴⍳4`).\n",
    "\n",
    "The **`loc`** property allows to *locate* values.\n",
    "Bracket indexing of rank-1 will return the index of the corresponding columns (eg: `f.loc['col1' 'col2']`).\n",
    "Rank-2 indexing allows to locate values. The corresponding indices are returned as a 2D array.\n",
    "It also allows to assign to the located values.\n",
    "\n",
    "The monadic **`frame`** method returns a new series with the same labels and the right argument as values.\n",
    "\n",
    "### Functions and operators\n",
    "\n",
    "#### `data.series` function\n",
    "\n",
    "Create an instance or a list of instances of the `data.Series` class.\n",
    "\n",
    "- `⍺ data.series ⍵` create instance of `data.Series` with label `⍺` and values `⍵`.\n",
    "- `data.series ⍵` create an instance of `data.Series` for each of the series in `⍵` and each of the series contained in each frame in `⍵`. If `⍵` is a 2D array, it must contains series with the same label in each column, and their values will be concatenated. If `⍵` is a string, try to read it as CSV.\n",
    "\n",
    "#### `data.frame` function\n",
    "\n",
    "Create an instance of the `data.Frame` class.\n",
    "\n",
    "- `⍺ data.frame ⍵` create instance of `data.Frame` with labels `⍺` and values `⍵`.\n",
    "- `data.frame ⍵` create an instance of `data.Frame` with each of the series returned by `data.series ⍵`.\n",
    "\n",
    "#### `data.sort` operator\n",
    "\n",
    "Sort data according to left function.\n",
    "\n",
    "- `⍺ (⍺⍺ data.sort) ⍵` returns the data in `⍵` (a frame or list of series) sorted according to the result of `⍺⍺ ⍺` (typically one of `⍒⍋`).\n",
    "- `(⍺⍺ data.sort) ⍵` equivalent to `(⍺⍺ data.sort)⍨⍵`.\n",
    "\n",
    "#### `data.by` operator\n",
    "\n",
    "Group data by values in right operand and apply left function.\n",
    "\n",
    "- `⍺ (⍺⍺ data.by ⍵⍵) ⍵` returns the data in `⍵` (a frame or list of series) grouped according to `⍵⍵` (also a frame or list of series) and apply `⍺⍺` to each group. A new frame is returned with the labels given in `⍺` (or `⍺.labels`). If `≢⍺` is lower than the number of series, it must contain a label for each of the additional series or a label for each of the series not in `⍵⍵`.\n",
    "- `(⍺⍺ data.by ⍵⍵) ⍵` equivalent to `(⍺⍺ data.by ⍵⍵)⍨⍵`.\n",
    "\n",
    "#### `data.where` operator\n",
    "\n",
    "Apply left function to data that fulfills condition given as right operand.\n",
    "\n",
    "- `⍺ (⍺⍺ data.where ⍵⍵) ⍵` returns the data in `⍵` (a frame or list of series) after applying the function `⍺⍺` to the values which fulfill the condition `⍵⍵ ⍺`.\n",
    "- `(⍺⍺ data.where ⍵⍵) ⍵` equivalent to `(⍺⍺ data.where ⍵⍵)⍨⍵`.\n",
    "\n",
    "#### `data.join` operator\n",
    "\n",
    "Merge two frames (or lists of series).\n",
    "\n",
    "- `⍺ (⍺⍺ data.join ⍵⍵) ⍵` returns frame with series labelled `⍺.labels ⍵⍵ ⍵.labels`. If two series at left and right have the same label, its values are combined as `⍺.values ⍺⍺ ⍵.values`.\n",
    "\n",
    "## Example"
   ]
  },
  {
   "cell_type": "code",
   "execution_count": 3,
   "id": "f3b26b57",
   "metadata": {},
   "outputs": [
    {
     "data": {
      "text/html": [
       "<pre class=\"language-APL\">  Major   Gender   Applicants   Accepted   %Accepted   %Applicants\n",
       "───────────────────────────────────────────────────────────────────\n",
       "  A       F               108         89      82.41         2.499\n",
       "  ·       M              1138        825      72.5         13.48\n",
       "  ·       T              1246        914      73.35         9.763\n",
       "  B       F                25         17      68            0.5786\n",
       "  ·       M               560        353      63.04         6.633\n",
       "  ·       T               585        370      63.25         4.584\n",
       "  C       F               593        201      33.9         13.72\n",
       "  ·       M               325        120      36.92         3.85\n",
       "  ·       T               918        321      34.97         7.193\n",
       "  D       F               375        131      34.93         8.679\n",
       "  ·       M               417        138      33.09         4.94\n",
       "  ·       T               792        269      33.96         6.205\n",
       "  E       F               393         94      23.92         9.095\n",
       "  ·       M               191         53      27.75         2.262\n",
       "  ·       T               584        147      25.17         4.576\n",
       "  F       F               341         25       7.331        7.892\n",
       "  ·       M               373         22       5.898        4.418\n",
       "  ·       T               714         47       6.583        5.594\n",
       "  Other   F              2486        937      37.69        57.53\n",
       "  ·       M              5438       2227      40.95        64.42\n",
       "  ·       T              7924       3164      39.93        62.09\n",
       "  Total   F              4321       1494      34.58       100\n",
       "  ·       M              8442       3738      44.28              ·\n",
       "  ·       T             12763       5232      40.99              ·\n",
       "</pre>"
      ]
     },
     "execution_count": 3,
     "metadata": {},
     "output_type": "execute_result"
    }
   ],
   "source": [
    "f←data.frame'berkeley.csv'\n",
    "a←'Applicants' 'Accepted'{(≢⍵),('A'+.=⊃¨)⍵}data.by'Major' 'Gender'⊢f[]~f[⊂'Year']\n",
    "g←⍋data.sort a,data.join⊣(⊂'Gender')(+⌿,'T'⍨)data.by(⊂'Major')⊢a[]~a[⊂'Gender']\n",
    "m←⍋data.sort g,data.join⊣(⊂'Major')(+⌿,(⊂'Total')⍨)data.by(⊂'Gender')⊢g[]~g[⊂'Major']\n",
    "r←data.frame m,'%Accepted'data.series 100×÷/m[;'Accepted' 'Applicants']\n",
    "data.frame r,'%Applicants'data.series (100×⊢÷≢⍴('T'=⊃¨r[;⊂'Major'])⌿⊢)⊢r[;⊂'Applicants']"
   ]
  }
 ],
 "metadata": {
  "kernelspec": {
   "display_name": "Dyalog APL",
   "language": "apl",
   "name": "dyalog-kernel"
  },
  "language_info": {
   "file_extension": ".apl",
   "mimetype": "text/apl",
   "name": "APL"
  }
 },
 "nbformat": 4,
 "nbformat_minor": 5
}
