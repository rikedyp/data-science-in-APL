{
 "cells": [
  {
   "cell_type": "markdown",
   "id": "95943aa0-ef05-49af-a1c7-e799d458495f",
   "metadata": {},
   "source": [
    "This is a worked through solution to [D&D.Sci (Easy Mode): On The Construction Of Impossible Structures](https://www.lesswrong.com/posts/Syfq6MwgdZhHg9vha/d-and-d-sci-easy-mode-on-the-construction-of-impossible)"
   ]
  },
  {
   "cell_type": "code",
   "execution_count": 5,
   "id": "7e07a4fc-7696-4d72-b0fe-e81211313e9d",
   "metadata": {},
   "outputs": [
    {
     "data": {
      "text/html": [
       "<pre class=\"language-APL\">* Command Execution Failed: cannot find the file \"HttpCommand.dyalog\" in any of\n",
       "       the SALT USER folders\n",
       "</pre>"
      ]
     },
     "execution_count": 5,
     "metadata": {},
     "output_type": "execute_result"
    }
   ],
   "source": [
    "]settings workdir ,[DYALOG]/Library/Conga   ⍝ Make sure we can find HttpCommand"
   ]
  },
  {
   "cell_type": "code",
   "execution_count": 13,
   "id": "952817b4-900d-438a-b378-cfd8167af709",
   "metadata": {},
   "outputs": [
    {
     "data": {
      "text/html": [
       "<pre class=\"language-APL\">Was ON -fns=off\n",
       "</pre>"
      ]
     },
     "execution_count": 13,
     "metadata": {},
     "output_type": "execute_result"
    },
    {
     "data": {
      "text/html": [
       "<pre class=\"language-APL\">Was OFF -fold=off -fns=off\n",
       "</pre>"
      ]
     },
     "execution_count": 13,
     "metadata": {},
     "output_type": "execute_result"
    }
   ],
   "source": [
    "]box on -fns=on\n",
    "]rows on -fold=3 -fns=on"
   ]
  },
  {
   "cell_type": "code",
   "execution_count": 7,
   "id": "0a5eba57-0b3e-42cc-9241-32928fe7377f",
   "metadata": {},
   "outputs": [
    {
     "data": {
      "text/html": [
       "<pre class=\"language-APL\">#.data\n",
       "</pre>"
      ]
     },
     "execution_count": 7,
     "metadata": {},
     "output_type": "execute_result"
    }
   ],
   "source": [
    "]get ./D&D.Sci/data.csv"
   ]
  },
  {
   "cell_type": "code",
   "execution_count": 8,
   "id": "17b763ea-1a09-4f09-a5a2-d619a1b939eb",
   "metadata": {},
   "outputs": [
    {
     "data": {
      "text/html": [
       "<pre class=\"language-APL\">#.architect_proposals\n",
       "</pre>"
      ]
     },
     "execution_count": 8,
     "metadata": {},
     "output_type": "execute_result"
    }
   ],
   "source": [
    "]get ./D&D.Sci/architect_proposals.txt"
   ]
  },
  {
   "cell_type": "code",
   "execution_count": 21,
   "id": "08c1be5c-af52-40cd-8d1c-f754e057b6ec",
   "metadata": {},
   "outputs": [
    {
     "data": {
      "text/html": [
       "<pre class=\"language-APL\">955 6\n",
       "</pre>"
      ]
     },
     "execution_count": 21,
     "metadata": {},
     "output_type": "execute_result"
    }
   ],
   "source": [
    "⍴data"
   ]
  },
  {
   "cell_type": "code",
   "execution_count": 22,
   "id": "fe5ee932-afd5-4eb1-ad79-d15140641451",
   "metadata": {},
   "outputs": [
    {
     "data": {
      "text/html": [
       "<pre class=\"language-APL\"> Background of Architect      Proposed Structure Type  Required Construction Materials  Characterization of Blueprints  Is Structure Impossible?  Cost of Structure \n",
       " Apprenticed under T. Geisel  Mansion                  Glass and Dreams                 Deceptively Ordinary            No                                    29719 \n",
       " Apprenticed under T. Geisel  Mechanism                Silver and Steel                 Hastily Sketched                No                                    79489 \n",
       " Apprenticed under M. Escher  Tower                    Steel and Silver                 Obsessively Detailed            No                                   100373 \n",
       " Self-Taught                  Mansion                  Wood and Dreams                  Obsessively Detailed            Yes                                     736 \n",
       "</pre>"
      ]
     },
     "execution_count": 22,
     "metadata": {},
     "output_type": "execute_result"
    }
   ],
   "source": [
    "5↑data"
   ]
  },
  {
   "cell_type": "code",
   "execution_count": 23,
   "id": "81a85738-a011-44c5-be93-0e1322e4d41c",
   "metadata": {},
   "outputs": [
    {
     "data": {
      "text/html": [
       "<pre class=\"language-APL\">1870\n",
       "</pre>"
      ]
     },
     "execution_count": 23,
     "metadata": {},
     "output_type": "execute_result"
    }
   ],
   "source": [
    "≢architect_proposals"
   ]
  },
  {
   "cell_type": "code",
   "execution_count": 32,
   "id": "854772da-a365-466a-a63c-42ed80366805",
   "metadata": {},
   "outputs": [
    {
     "data": {
      "text/html": [
       "<pre class=\"language-APL\">Architect A, who was Self-Taught, presents Hastily Sketched blueprints proposing to build a Tower of Steel and Dreams\n",
       "Architect B, who was Apprenticed under R. Penrose, presents Hastily Sketched blueprints proposing to build a Mansion of Steel and Nightmares\n",
       "Architect C, who was Apprenticed under R. Penrose, presents Obsessively Detailed blueprints proposing to build a Library of Wood and Glass\n",
       "Architect D, who was Apprenticed under B. Johnson, presents Obsessively Detailed blueprints proposing to build a Tower of Steel and Silver\n",
       "Architect E, who was Apprenticed under P. Stamatin, presents Obsessively Detailed blueprints proposing to build a Mechanism of Silver and Wood\n",
       "Architect F, who was Apprenticed under R. Penrose, presents Hastily Sketched blueprints proposing to build a Mansion of \n",
       "</pre>"
      ]
     },
     "execution_count": 32,
     "metadata": {},
     "output_type": "execute_result"
    }
   ],
   "source": [
    "800↑architect_proposals"
   ]
  },
  {
   "cell_type": "markdown",
   "id": "ac913777-3baf-455e-9516-465f66929fb6",
   "metadata": {},
   "source": [
    "By this, we can see we need a model that takes:\n",
    "\n",
    "- background\n",
    "- characteristics\n",
    "- type\n",
    "- materials\n",
    "\n",
    "and predicts both the cost and whether the structure is impossible."
   ]
  },
  {
   "cell_type": "markdown",
   "id": "1954e069-a755-4e85-be13-9cf62efc7094",
   "metadata": {},
   "source": [
    "It looks like we ought to normalise the data according to each of our dimensions.\n",
    "\n",
    "- bg: architect background\n",
    "- typ: structure type\n",
    "- mat: construction materials\n",
    "- blu: characterisation of blueprints\n",
    "- im: is structure impossible?\n",
    "- cst: cost of structure"
   ]
  },
  {
   "cell_type": "markdown",
   "id": "f45ec6f6-52c4-4c92-844f-bccf34a32452",
   "metadata": {},
   "source": [
    "We can see that `mat` has overlap in the lists. Let's see whether our other fields are pure categories or if they have overlaps too."
   ]
  },
  {
   "cell_type": "code",
   "execution_count": 26,
   "id": "586b3dbe-e904-4eaa-9a42-d5205b5c488a",
   "metadata": {},
   "outputs": [
    {
     "data": {
      "text/html": [
       "<pre class=\"language-APL\"> Apprenticed under B. Johnson   Library    Steel and Silver     Obsessively Detailed  Yes  106717\n",
       " Self-Taught                    Library    Wood and Nightmares  Deceptively Ordinary  Yes  406353\n",
       " Self-Taught                    Mansion    Wood and Glass       Hastily Sketched      No    37946\n",
       " Apprenticed under P. Stamatin  Tower      Wood and Glass       Deceptively Ordinary  Yes   23309\n",
       " Apprenticed under B. Johnson   Library    Silver and Steel     Obsessively Detailed  Yes   69706\n",
       " Self-Taught                    Mechanism  Steel and Glass      Obsessively Detailed  No    28890\n",
       " Apprenticed under P. Stamatin  Mechanism  Steel and Silver     Hastily Sketched      Yes  101614\n",
       " Self-Taught                    Mansion    Wood and Dreams      Hastily Sketched      Yes     610\n",
       " Self-Taught                    Library    Steel and Silver     Obsessively Detailed  No    94637\n",
       " Self-Taught                    Mansion    Glass and Dreams     Obsessively Detailed  No    23124\n",
       "</pre>"
      ]
     },
     "execution_count": 26,
     "metadata": {},
     "output_type": "execute_result"
    }
   ],
   "source": [
    "10(⊂⍤?∘≢⌷⊢)data"
   ]
  },
  {
   "cell_type": "markdown",
   "id": "62cab76a-5de3-41c5-bf01-aca881619450",
   "metadata": {},
   "source": [
    "It looks like they are all pure (can be encoded as indices into the unique items) except for materials which are two selected from those available."
   ]
  },
  {
   "cell_type": "markdown",
   "id": "64b25f09-2a66-47aa-88ee-467200a87675",
   "metadata": {},
   "source": [
    "What can we do to inspect these data? A hint is that anything more than spreadsheets is overkill...\n",
    "\n"
   ]
  },
  {
   "cell_type": "code",
   "execution_count": 29,
   "id": "b4b5db65-62cc-447b-9410-13071815b29c",
   "metadata": {},
   "outputs": [],
   "source": [
    "d←1↓data"
   ]
  },
  {
   "cell_type": "code",
   "execution_count": 31,
   "id": "3ce84ef9-d809-40c5-ae41-85fd22629825",
   "metadata": {},
   "outputs": [
    {
     "data": {
      "text/html": [
       "<pre class=\"language-APL\">  Apprenticed under T. Geisel    149   Mansion    240   Glass and Dreams       44   Deceptively Ordinary  241 \n",
       "  Apprenticed under M. Escher     83   Mechanism  257   Silver and Steel       60   Hastily Sketched      371 \n",
       "  Self-Taught                    340   Tower      326   Steel and Silver       54   Obsessively Detailed  342 \n",
       "  Apprenticed under P. Stamatin  147   Library    131   Wood and Dreams        41                             \n",
       "  Apprenticed under R. Penrose    98                    Glass and Silver       39                             \n",
       "  Apprenticed under B. Johnson   137                    Wood and Nightmares    41                             \n",
       "                                                        Silver and Wood        57                             \n",
       "                                                        Wood and Silver        50                             \n",
       "                                                        Glass and Steel        51                             \n",
       "                                                        Steel and Wood         45                             \n",
       "                                                        Wood and Glass         54                             \n",
       "                                                        Silver and Glass       55                             \n",
       "                                                        Steel and Nightmares   46                             \n",
       "                                                        Glass and Nightmares   34                             \n",
       "                                                        Silver and Nightmares  49                             \n",
       "                                                        Silver and Dreams      29                             \n",
       "                                                        Glass and Wood         52                             \n",
       "                                                        Steel and Dreams       44                             \n",
       "                                                        Steel and Glass        56                             \n",
       "                                                        Wood and Steel         53                             \n",
       "</pre>"
      ]
     },
     "execution_count": 31,
     "metadata": {},
     "output_type": "execute_result"
    }
   ],
   "source": [
    "(↓⍉d[;⍳4]){⍺,≢⍵}⌸¨⊂d[;5]"
   ]
  },
  {
   "cell_type": "code",
   "execution_count": 9,
   "id": "1e0b8d07-77cd-4e9b-966c-19e73787bba8",
   "metadata": {},
   "outputs": [],
   "source": [
    "(h d)←{(1⌷⍵)(1↓⍵)}data   ⍝ Split header and data"
   ]
  },
  {
   "cell_type": "code",
   "execution_count": 18,
   "id": "4688cd0d-2aea-49fc-9b4b-4a4fca74c3d5",
   "metadata": {},
   "outputs": [
    {
     "data": {
      "text/html": [
       "<pre class=\"language-APL\">1041725 507\n",
       "</pre>"
      ]
     },
     "execution_count": 18,
     "metadata": {},
     "output_type": "execute_result"
    }
   ],
   "source": [
    "(⌈/,⌊/)d[;h⍳⊂'Cost of Structure']"
   ]
  },
  {
   "cell_type": "markdown",
   "id": "e1d8d18d-672a-4611-9952-d39db922be2f",
   "metadata": {},
   "source": [
    "The range is quite large, so we will use the logarithm of costs in our analysis."
   ]
  },
  {
   "cell_type": "code",
   "execution_count": 10,
   "id": "ed60a17e-570a-4d79-8eb5-d82202c7d177",
   "metadata": {},
   "outputs": [],
   "source": [
    "log_cost←⍟d[;h⍳⊂'Cost of Structure']"
   ]
  },
  {
   "cell_type": "markdown",
   "id": "79765709-1b55-43fa-808d-43b0df3f0251",
   "metadata": {},
   "source": [
    "Now we look at creating indicator variables for our categorical variables."
   ]
  },
  {
   "cell_type": "markdown",
   "id": "89935327-3033-4348-b54b-e8aa38644a7f",
   "metadata": {},
   "source": [
    "We create indicator variables for each of the possible materials."
   ]
  },
  {
   "cell_type": "code",
   "execution_count": 17,
   "id": "441158c1-7b64-4fd6-9b42-b733531d8dac",
   "metadata": {},
   "outputs": [
    {
     "data": {
      "text/html": [
       "<pre class=\"language-APL\">1 1 0 0 0 0\n",
       "0 0 1 1 0 0\n",
       "0 0 1 1 0 0\n",
       "0 1 0 0 1 0\n",
       "1 0 1 0 0 0\n",
       "0 1 0 0 1 0\n",
       "0 0 0 0 1 1\n",
       "0 0 1 1 0 0\n",
       "0 0 1 1 0 0\n",
       "1 1 0 0 0 0\n",
       "</pre>"
      ]
     },
     "execution_count": 17,
     "metadata": {},
     "output_type": "execute_result"
    }
   ],
   "source": [
    "unique_mat←∪⊃,/pairs←(⊂1 3)∘⌷¨' '(≠⊆⊢)¨d[;h⍳⊂'Required Construction Materials']\n",
    "materials←unique_mat∊⍤1↑pairs\n",
    "10↑materials"
   ]
  },
  {
   "cell_type": "code",
   "execution_count": 25,
   "id": "39936b63-c4da-46ef-aa52-1bd397928006",
   "metadata": {},
   "outputs": [
    {
     "data": {
      "text/html": [
       "<pre class=\"language-APL\">┌───────────────────────┬───────────────────────┬───────────────────────────────┬──────────────────────────────┬────────────────────────┬─────────────────┐\n",
       "│Background of Architect│Proposed Structure Type│Required Construction Materials│Characterization of Blueprints│Is Structure Impossible?│Cost of Structure│\n",
       "└───────────────────────┴───────────────────────┴───────────────────────────────┴──────────────────────────────┴────────────────────────┴─────────────────┘\n",
       "</pre>"
      ]
     },
     "execution_count": 25,
     "metadata": {},
     "output_type": "execute_result"
    }
   ],
   "source": [
    "h"
   ]
  },
  {
   "cell_type": "code",
   "execution_count": 29,
   "id": "c5d4c336-7f15-4bf3-9654-4ae54bf56344",
   "metadata": {},
   "outputs": [
    {
     "data": {
      "text/html": [
       "<pre class=\"language-APL\">434\n",
       "</pre>"
      ]
     },
     "execution_count": 29,
     "metadata": {},
     "output_type": "execute_result"
    },
    {
     "data": {
      "text/html": [
       "<pre class=\"language-APL\">315\n",
       "</pre>"
      ]
     },
     "execution_count": 29,
     "metadata": {},
     "output_type": "execute_result"
    },
    {
     "data": {
      "text/html": [
       "<pre class=\"language-APL\">263\n",
       "</pre>"
      ]
     },
     "execution_count": 29,
     "metadata": {},
     "output_type": "execute_result"
    }
   ],
   "source": [
    "+/'Yes'∘≡¨d[;h⍳⊂'Is Structure Impossible?']                           ⍝ How many impossible structures in our data?\n",
    "≢∪d[;1 2 3 4]⌿⍨'Yes'∘≡¨d[;h⍳⊂'Is Structure Impossible?']             ⍝ Are there particular combinations that lead to impossible structures?\n",
    "≢∪(materials,d[;1 2 4])⌿⍨'Yes'∘≡¨d[;h⍳⊂'Is Structure Impossible?']   ⍝ What about if materials are considered separately?"
   ]
  },
  {
   "cell_type": "markdown",
   "id": "161f975a-c601-40b7-97f5-18253eff8d28",
   "metadata": {},
   "source": [
    "Let's get some percentages of our categorical variables against whether they create impossible structures."
   ]
  },
  {
   "cell_type": "code",
   "execution_count": 36,
   "id": "ebbbcf1d-1d7b-4b67-8d5f-667e35a77978",
   "metadata": {},
   "outputs": [
    {
     "data": {
      "text/html": [
       "<pre class=\"language-APL\">┌─────────────────────────────┬────────────┐\n",
       "│Apprenticed under T. Geisel  │0           │\n",
       "├─────────────────────────────┼────────────┤\n",
       "│Apprenticed under M. Escher  │0           │\n",
       "├─────────────────────────────┼────────────┤\n",
       "│Self-Taught                  │0.4411764706│\n",
       "├─────────────────────────────┼────────────┤\n",
       "│Apprenticed under P. Stamatin│1           │\n",
       "├─────────────────────────────┼────────────┤\n",
       "│Apprenticed under R. Penrose │0           │\n",
       "├─────────────────────────────┼────────────┤\n",
       "│Apprenticed under B. Johnson │1           │\n",
       "└─────────────────────────────┴────────────┘\n",
       "</pre>"
      ]
     },
     "execution_count": 36,
     "metadata": {},
     "output_type": "execute_result"
    }
   ],
   "source": [
    "n←≢d\n",
    "d[;h⍳⊂'Background of Architect'],∘(+⌿÷≢)⌸'Yes'∘≡¨d[;h⍳⊂'Is Structure Impossible?']"
   ]
  },
  {
   "cell_type": "markdown",
   "id": "bfc2b4a5-499e-4a1a-8a29-9be7a640bdf1",
   "metadata": {},
   "source": [
    "So our impossible structures were created by apprentices of P. Stamatin and B. Johnson, and some self-taught architects. Under what conditions do self-taught architects create impossible structures?"
   ]
  },
  {
   "cell_type": "code",
   "execution_count": 46,
   "id": "29f7ab04-c32b-41a3-815a-1b0ade7e1669",
   "metadata": {},
   "outputs": [
    {
     "data": {
      "text/html": [
       "<pre class=\"language-APL\">┌─────┬──────┬──────┬─────┬────┬──────────┬───────────┬──────────────┐\n",
       "│Glass│Dreams│Silver│Steel│Wood│Nightmares│Self-Taught│pct impossible│\n",
       "├─────┼──────┼──────┼─────┼────┼──────────┼───────────┼──────────────┤\n",
       "│0    │1     │0     │0    │1   │0         │1          │0.8           │\n",
       "├─────┼──────┼──────┼─────┼────┼──────────┼───────────┼──────────────┤\n",
       "│0    │1     │1     │0    │0   │0         │1          │0.8           │\n",
       "├─────┼──────┼──────┼─────┼────┼──────────┼───────────┼──────────────┤\n",
       "│1    │1     │0     │0    │0   │0         │0          │0.652173913   │\n",
       "├─────┼──────┼──────┼─────┼────┼──────────┼───────────┼──────────────┤\n",
       "│0    │1     │0     │1    │0   │0         │0          │0.5925925926  │\n",
       "├─────┼──────┼──────┼─────┼────┼──────────┼───────────┼──────────────┤\n",
       "│1    │0     │0     │0    │0   │1         │0          │0.5789473684  │\n",
       "├─────┼──────┼──────┼─────┼────┼──────────┼───────────┼──────────────┤\n",
       "│1    │0     │0     │0    │0   │1         │1          │0.5333333333  │\n",
       "├─────┼──────┼──────┼─────┼────┼──────────┼───────────┼──────────────┤\n",
       "│1    │0     │0     │0    │1   │0         │1          │0.5277777778  │\n",
       "├─────┼──────┼──────┼─────┼────┼──────────┼───────────┼──────────────┤\n",
       "······································································\n",
       "├─────┼──────┼──────┼─────┼────┼──────────┼───────────┼──────────────┤\n",
       "│0    │0     │0     │0    │1   │1         │0          │0.2222222222  │\n",
       "└─────┴──────┴──────┴─────┴────┴──────────┴───────────┴──────────────┘\n",
       "</pre>"
      ]
     },
     "execution_count": 46,
     "metadata": {},
     "output_type": "execute_result"
    }
   ],
   "source": [
    "stm←{(⊂⍒⊢/⍵)⌷⍵}(materials,'Self-Taught'∘≡¨d[;h⍳⊂'Background of Architect']),∘(+⌿÷≢)⌸'Yes'∘≡¨d[;h⍳⊂'Is Structure Impossible?']\n",
    "(unique_mat,'Self-Taught' 'pct impossible')⍪stm"
   ]
  },
  {
   "cell_type": "markdown",
   "id": "6b7e1657-6af3-4b7b-8e1a-19ac8deb3826",
   "metadata": {},
   "source": [
    "It looks like self-taught architects who use dreams are highly likely to create impossible structures."
   ]
  },
  {
   "cell_type": "markdown",
   "id": "d3e77cb4-6b02-4912-b58e-1a1e181804ec",
   "metadata": {},
   "source": [
    "We suspect structure type and materials might contribute to cost. Let's investigate that relationship."
   ]
  },
  {
   "cell_type": "code",
   "execution_count": 50,
   "id": "50851bee-1a20-404b-b281-500e0cc68c7a",
   "metadata": {},
   "outputs": [
    {
     "data": {
      "text/html": [
       "<pre class=\"language-APL\">┌─────────┬───────────┐\n",
       "│Mansion  │148090.6875│\n",
       "├─────────┼───────────┤\n",
       "│Mechanism│141000.035 │\n",
       "├─────────┼───────────┤\n",
       "│Tower    │145767.0429│\n",
       "├─────────┼───────────┤\n",
       "│Library  │194573.4351│\n",
       "└─────────┴───────────┘\n",
       "</pre>"
      ]
     },
     "execution_count": 50,
     "metadata": {},
     "output_type": "execute_result"
    },
    {
     "data": {
      "text/html": [
       "<pre class=\"language-APL\">┌─────┬──────┬──────┬─────┬────┬──────────┬───────────┐\n",
       "│Glass│Dreams│Silver│Steel│Wood│Nightmares│avg cost   │\n",
       "├─────┼──────┼──────┼─────┼────┼──────────┼───────────┤\n",
       "│0    │0     │1     │0    │0   │1         │675334.4082│\n",
       "├─────┼──────┼──────┼─────┼────┼──────────┼───────────┤\n",
       "│0    │0     │0     │0    │1   │1         │613753.6341│\n",
       "├─────┼──────┼──────┼─────┼────┼──────────┼───────────┤\n",
       "│0    │0     │0     │1    │0   │1         │603472.2609│\n",
       "├─────┼──────┼──────┼─────┼────┼──────────┼───────────┤\n",
       "│1    │0     │0     │0    │0   │1         │597313.1471│\n",
       "├─────┼──────┼──────┼─────┼────┼──────────┼───────────┤\n",
       "│1    │0     │1     │0    │0   │0         │104279.8191│\n",
       "├─────┼──────┼──────┼─────┼────┼──────────┼───────────┤\n",
       "│0    │0     │1     │1    │0   │0         │78917.96491│\n",
       "├─────┼──────┼──────┼─────┼────┼──────────┼───────────┤\n",
       "│0    │0     │1     │0    │1   │0         │74961.01869│\n",
       "├─────┼──────┼──────┼─────┼────┼──────────┼───────────┤\n",
       "·······················································\n",
       "├─────┼──────┼──────┼─────┼────┼──────────┼───────────┤\n",
       "│0    │1     │0     │0    │1   │0         │757.4634146│\n",
       "└─────┴──────┴──────┴─────┴────┴──────────┴───────────┘\n",
       "</pre>"
      ]
     },
     "execution_count": 50,
     "metadata": {},
     "output_type": "execute_result"
    }
   ],
   "source": [
    "⍝ Mean cost by structure type\n",
    "d[;h⍳⊂'Proposed Structure Type'],∘(+⌿÷≢)⌸d[;h⍳⊂'Cost of Structure']\n",
    "\n",
    "⍝ Mean cost for each material (using your materials matrix)\n",
    "(unique_mat,⊆'avg cost')⍪{(⊂⍒⊢/⍵)⌷⍵}materials,∘(+⌿÷≢)⌸d[;h⍳⊂'Cost of Structure']"
   ]
  },
  {
   "cell_type": "code",
   "execution_count": 62,
   "id": "1e06a873-dce6-4878-aac5-0de4f02af4bf",
   "metadata": {},
   "outputs": [
    {
     "data": {
      "text/html": [
       "<pre class=\"language-APL\">┌──────┬──────────┬───────────┐\n",
       "│Silver│Nightmares│675334.4082│\n",
       "├──────┼──────────┼───────────┤\n",
       "│Wood  │Nightmares│613753.6341│\n",
       "├──────┼──────────┼───────────┤\n",
       "│Steel │Nightmares│603472.2609│\n",
       "├──────┼──────────┼───────────┤\n",
       "│Glass │Nightmares│597313.1471│\n",
       "├──────┼──────────┼───────────┤\n",
       "│Silver│Glass     │105048.4727│\n",
       "├──────┼──────────┼───────────┤\n",
       "│Glass │Silver    │103195.8205│\n",
       "├──────┼──────────┼───────────┤\n",
       "│Silver│Steel     │80270.03333│\n",
       "├──────┼──────────┼───────────┤\n",
       "│Steel │Silver    │77415.66667│\n",
       "├──────┼──────────┼───────────┤\n",
       "·······························\n",
       "├──────┼──────────┼───────────┤\n",
       "│Wood  │Dreams    │757.4634146│\n",
       "└──────┴──────────┴───────────┘\n",
       "</pre>"
      ]
     },
     "execution_count": 62,
     "metadata": {},
     "output_type": "execute_result"
    }
   ],
   "source": [
    "{(⊂⍒⊢/⍵)⌷⍵}(↑pairs),∘(+⌿÷≢)⌸d[;h⍳⊂'Cost of Structure']"
   ]
  },
  {
   "cell_type": "code",
   "execution_count": 63,
   "id": "5f824612-76d6-4b0d-8c21-73190b4bc93a",
   "metadata": {},
   "outputs": [
    {
     "data": {
      "text/html": [
       "<pre class=\"language-APL\">0  49061.59949\n",
       "1 625433.2706\n",
       "</pre>"
      ]
     },
     "execution_count": 63,
     "metadata": {},
     "output_type": "execute_result"
    }
   ],
   "source": [
    "materials[;unique_mat⍳⊂'Nightmares'],∘(+⌿÷≢)⌸d[;h⍳⊂'Cost of Structure']"
   ]
  },
  {
   "cell_type": "markdown",
   "id": "584b7fb2-03d3-4c76-b383-abe2e40c44cc",
   "metadata": {},
   "source": [
    "So we can see that nightmares are significantly more expensive than any other kind of material."
   ]
  },
  {
   "cell_type": "markdown",
   "id": "1c6271e9-f675-4d64-af24-9bc20197c285",
   "metadata": {},
   "source": [
    "We can certainly attempt a regression on materials vs $\\log(cost)$."
   ]
  },
  {
   "cell_type": "code",
   "execution_count": 56,
   "id": "3eb9bf9f-e289-48d8-b5f6-26bacc0ee8bc",
   "metadata": {},
   "outputs": [
    {
     "data": {
      "text/html": [
       "<pre class=\"language-APL\">5.705262932 3.888690935 6.378316762 4.834001612 4.268226354 7.949478661\n",
       "</pre>"
      ]
     },
     "execution_count": 56,
     "metadata": {},
     "output_type": "execute_result"
    }
   ],
   "source": [
    "mat_cost←materials,∘(+⌿÷≢)⌸⍟d[;h⍳⊂'Cost of Structure']\n",
    "⎕←coeff←(⊢/mat_cost)⌹¯1↓⍤1⊢mat_cost"
   ]
  },
  {
   "cell_type": "code",
   "execution_count": 58,
   "id": "066527f7-c9d8-45da-911e-f67f56e6967c",
   "metadata": {
    "scrolled": true
   },
   "outputs": [
    {
     "data": {
      "text/html": [
       "<pre class=\"language-APL\">74036.86137\n",
       "</pre>"
      ]
     },
     "execution_count": 58,
     "metadata": {},
     "output_type": "execute_result"
    },
    {
     "data": {
      "text/html": [
       "<pre class=\"language-APL\">3487.419307\n",
       "</pre>"
      ]
     },
     "execution_count": 58,
     "metadata": {},
     "output_type": "execute_result"
    }
   ],
   "source": [
    "*0 0 1 1 0 0+.×coeff\n",
    "*0 1 0 0 1 0+.×coeff"
   ]
  },
  {
   "cell_type": "markdown",
   "id": "48eedd98-56cd-49fc-b57d-b7439295eef5",
   "metadata": {},
   "source": [
    "So those most likely to create impossible structures are apprentices of P. Stamatin and B. Johnson, or self-taught architects who use dreams. We want to avoid proposals to build with nightmares because they are expensive."
   ]
  },
  {
   "cell_type": "code",
   "execution_count": 65,
   "id": "1398834b-c88c-4184-b9de-6bf3feabc6aa",
   "metadata": {},
   "outputs": [
    {
     "data": {
      "text/html": [
       "<pre class=\"language-APL\">Architect A, who was Self-Taught, presents Hastily Sketched blueprints proposing to build a Tower of Steel and Dreams\n",
       "Architect B, who was Apprenticed under R. Penrose, presents Hastily Sketched blueprints proposing to build a Mansion of Steel and Nightmares\n",
       "Architect C, who was Apprenticed under R.\n",
       "</pre>"
      ]
     },
     "execution_count": 65,
     "metadata": {},
     "output_type": "execute_result"
    }
   ],
   "source": [
    "300↑architect_proposals"
   ]
  },
  {
   "cell_type": "markdown",
   "id": "6ad70c7e-fae1-44a1-b5bb-66dfc54deb7b",
   "metadata": {},
   "source": [
    "The pattern is:\n",
    "```\n",
    "Architect N, who was [background], presents [blueprint] proposing to build a [type] of [materials]\n",
    "```"
   ]
  },
  {
   "cell_type": "code",
   "execution_count": 77,
   "id": "a5e88ad6-e0de-422d-8b67-2a5fbfce1032",
   "metadata": {},
   "outputs": [
    {
     "data": {
      "text/html": [
       "<pre class=\"language-APL\">┌───────────┬─────────────────────────────┬─────────┬──────┬──────────┐\n",
       "│Architect A│Self-Taught                  │Tower    │Steel │Dreams    │\n",
       "├───────────┼─────────────────────────────┼─────────┼──────┼──────────┤\n",
       "│Architect B│Apprenticed under R. Penrose │Mansion  │Steel │Nightmares│\n",
       "├───────────┼─────────────────────────────┼─────────┼──────┼──────────┤\n",
       "│Architect C│Apprenticed under R. Penrose │Library  │Wood  │Glass     │\n",
       "├───────────┼─────────────────────────────┼─────────┼──────┼──────────┤\n",
       "│Architect D│Apprenticed under B. Johnson │Tower    │Steel │Silver    │\n",
       "├───────────┼─────────────────────────────┼─────────┼──────┼──────────┤\n",
       "│Architect E│Apprenticed under P. Stamatin│Mechanism│Silver│Wood      │\n",
       "├───────────┼─────────────────────────────┼─────────┼──────┼──────────┤\n",
       "│Architect F│Apprenticed under R. Penrose │Mansion  │Silver│Dreams    │\n",
       "├───────────┼─────────────────────────────┼─────────┼──────┼──────────┤\n",
       "│Architect G│Apprenticed under P. Stamatin│Mechanism│Glass │Nightmares│\n",
       "├───────────┼─────────────────────────────┼─────────┼──────┼──────────┤\n",
       "│Architect H│Apprenticed under B. Johnson │Tower    │Silver│Steel     │\n",
       "├───────────┼─────────────────────────────┼─────────┼──────┼──────────┤\n",
       "·······································································\n",
       "├───────────┼─────────────────────────────┼─────────┼──────┼──────────┤\n",
       "│Architect N│Self-Taught                  │Mechanism│Steel │Wood      │\n",
       "└───────────┴─────────────────────────────┴─────────┴──────┴──────────┘\n",
       "</pre>"
      ]
     },
     "execution_count": 77,
     "metadata": {},
     "output_type": "execute_result"
    }
   ],
   "source": [
    "ap←⎕CSV architect_proposals 'S' ⍬\n",
    "ap[;2]↓⍨←8   ⍝ Drop \"who was \"\n",
    "ap[;3]↓⍨←9   ⍝ Drop \"presents \"\n",
    "n←≢'blueprints proposing to build a '\n",
    "ap[;3]↓⍨←n+' blueprints'∘(⍸⍷)¨ap[;3]\n",
    "⎕←proposals←ap[;1 2],↑(⊂1 3 5)∘⌷¨' '(≠⊆⊢)¨ap[;3]"
   ]
  },
  {
   "cell_type": "code",
   "execution_count": 80,
   "id": "06f7d62b-6714-44f7-a406-fc9c61bd95f4",
   "metadata": {},
   "outputs": [
    {
     "data": {
      "text/html": [
       "<pre class=\"language-APL\">┌───────────┬─────────────────────────────┬─────────┬──────┬──────────┐\n",
       "│Architect D│Apprenticed under B. Johnson │Tower    │Steel │Silver    │\n",
       "├───────────┼─────────────────────────────┼─────────┼──────┼──────────┤\n",
       "│Architect E│Apprenticed under P. Stamatin│Mechanism│Silver│Wood      │\n",
       "├───────────┼─────────────────────────────┼─────────┼──────┼──────────┤\n",
       "│Architect G│Apprenticed under P. Stamatin│Mechanism│Glass │Nightmares│\n",
       "├───────────┼─────────────────────────────┼─────────┼──────┼──────────┤\n",
       "│Architect H│Apprenticed under B. Johnson │Tower    │Silver│Steel     │\n",
       "├───────────┼─────────────────────────────┼─────────┼──────┼──────────┤\n",
       "│Architect K│Apprenticed under P. Stamatin│Library  │Glass │Dreams    │\n",
       "├───────────┼─────────────────────────────┼─────────┼──────┼──────────┤\n",
       "│Architect A│Self-Taught                  │Tower    │Steel │Dreams    │\n",
       "├───────────┼─────────────────────────────┼─────────┼──────┼──────────┤\n",
       "│Architect B│Apprenticed under R. Penrose │Mansion  │Steel │Nightmares│\n",
       "├───────────┼─────────────────────────────┼─────────┼──────┼──────────┤\n",
       "│Architect C│Apprenticed under R. Penrose │Library  │Wood  │Glass     │\n",
       "├───────────┼─────────────────────────────┼─────────┼──────┼──────────┤\n",
       "·······································································\n",
       "├───────────┼─────────────────────────────┼─────────┼──────┼──────────┤\n",
       "│Architect N│Self-Taught                  │Mechanism│Steel │Wood      │\n",
       "└───────────┴─────────────────────────────┴─────────┴──────┴──────────┘\n",
       "</pre>"
      ]
     },
     "execution_count": 80,
     "metadata": {},
     "output_type": "execute_result"
    }
   ],
   "source": [
    "imp←proposals[;2]∊'Apprenticed under P. Stamatin' 'Apprenticed under B. Johnson'\n",
    "proposals[⍒imp;]"
   ]
  },
  {
   "cell_type": "markdown",
   "id": "daa1bc33-1b43-4c58-a6e9-b0db0aff5479",
   "metadata": {},
   "source": [
    "There are 5 proposals guaranteed to create impossible structures, but one intends to use nightmares. The four proposals to accept are D, E, H and K."
   ]
  }
 ],
 "metadata": {
  "kernelspec": {
   "display_name": "Dyalog APL",
   "language": "apl",
   "name": "dyalog_apl"
  },
  "language_info": {
   "file_extension": ".apl",
   "mimetype": "text/apl",
   "name": "APL"
  }
 },
 "nbformat": 4,
 "nbformat_minor": 5
}
